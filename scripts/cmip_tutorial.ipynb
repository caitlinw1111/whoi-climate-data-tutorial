{
 "cells": [
  {
   "cell_type": "markdown",
   "id": "0d97c2fd-c240-42a5-a4fa-08a97dea755f",
   "metadata": {},
   "source": [
    "# Overview\n",
    "__In this notebook, we'll:__\n",
    "1. Look at examples of commonly-used xarray operations (e.g. loading and plotting data, preprocessing)\n",
    "2. Look at an example of how to apply concepts from lecture to output from a \"stochastic climate model\"\n",
    "3. Apply concepts from lecture to output from CMIP data\n",
    "\n",
    "__\"Practical\" learning objectives:__\n",
    "- Become familiar with basics of manipulating gridded climate data\n",
    "\n",
    "__Conceptual learning objectives:__\n",
    "- Understand purpose of model validation\n",
    "- Understand difference between externally-forced and internal climate variability.\n",
    "- Understand why we need ensembles of climate simulations."
   ]
  },
  {
   "cell_type": "markdown",
   "id": "b94bf4ba-8446-44b2-8b40-6e6335fe980d",
   "metadata": {},
   "source": [
    "# 0. Preliminaries"
   ]
  },
  {
   "cell_type": "markdown",
   "id": "2ac98056-b074-477e-baa1-8b7b3570eec5",
   "metadata": {},
   "source": [
    "#### specify path to data"
   ]
  },
  {
   "cell_type": "code",
   "execution_count": null,
   "id": "43eb45a7-0022-4ff5-8709-8d132930700f",
   "metadata": {},
   "outputs": [],
   "source": [
    "## filepath for the mount\n",
    "cmip6_fp = \"/Volumes/cmip6/data\""
   ]
  },
  {
   "cell_type": "markdown",
   "id": "ec2aa548-d668-4e5c-8507-c31a97ce59ff",
   "metadata": {},
   "source": [
    "#### Import packages"
   ]
  },
  {
   "cell_type": "code",
   "execution_count": null,
   "id": "39f6f094-7e73-40df-832b-036df573b202",
   "metadata": {},
   "outputs": [],
   "source": [
    "import xarray as xr\n",
    "import numpy as np\n",
    "import pandas as pd\n",
    "from tqdm import tqdm\n",
    "import matplotlib.pyplot as plt\n",
    "import cmocean\n",
    "from matplotlib.dates import DateFormatter\n",
    "import seaborn as sns\n",
    "import glob\n",
    "import cftime\n",
    "import src.utils\n",
    "import cartopy.crs as ccrs\n",
    "import matplotlib.ticker as mticker\n",
    "import matplotlib.dates as mdates\n",
    "import xesmf as xe\n",
    "\n",
    "## set plotting style\n",
    "sns.set(rc={\"axes.facecolor\": \"white\", \"axes.grid\": False})\n",
    "\n",
    "## initialize random number generator\n",
    "rng = np.random.default_rng()"
   ]
  },
  {
   "cell_type": "markdown",
   "id": "7f8f9041-25ac-4899-a73e-70e88f9c50ff",
   "metadata": {},
   "source": [
    "# 1. Commonly-used operations...\n",
    "...and examples using ```xarray``` & ```matplotlib```.  \n",
    "\n",
    "[Xarray](https://xarray.dev/) is a Python package useful for working with gridded climate data and netcdf files. I think of it as a high-level \"wrapper\" for lower-level packages like ```numpy``` and ```pandas```. While the core of a ```xarray.DataArray``` object is a ```numpy.array```, the ```xarray``` object includes dimension names and additional metadata. This tends to make code easier to interpret: for example, to average over latitudes in a numpy array, you have to keep track of which array dimension corresponds to latitude – e.g., ```data.mean(axis=2)```, if latitude is the 2$^{nd}$ dimension – whereas in xarray you don't: ```data.mean(dim=\"latitude\")```.  \n",
    "\n",
    "Here, we have a few examples of commonly-used patterns/operations when working with data on WHOI's servers; there is a [more complete tutorial on the ```xarray``` website](https://tutorial.xarray.dev/overview/xarray-in-45-min.html)."
   ]
  },
  {
   "cell_type": "markdown",
   "id": "fa46685c-06b0-4da5-8632-b611000f34f6",
   "metadata": {},
   "source": [
    "## Opening data\n",
    "We're going to work with a \"reanalysis\" product located on the CMIP6 archive. As a reminder from lecture, a reanalysis is a hybrid of model output and observations. Observations (e.g., of rainfall, temperature, or ocean salinity) are sparse (& irregular) in time in space. The purpose of the reanalysis is to fill in the gaps, creating a nice \"gridded\" dataset which *is* regular in time and space."
   ]
  },
  {
   "cell_type": "code",
   "execution_count": null,
   "id": "d10af6e4-e181-4b53-aaa8-782f61e893d7",
   "metadata": {
    "scrolled": true
   },
   "outputs": [],
   "source": [
    "## specify file path to ERA5 reanalysis product.\n",
    "## We'll look at surface temperature\n",
    "era5_path = f\"{cmip6_fp}/era5/reanalysis/single-levels/monthly-means/2m_temperature\"\n",
    "\n",
    "## List the first few files in the folder:\n",
    "file_list = glob.glob(f\"{era5_path}/*.nc\")\n",
    "print(np.sort(file_list)[:4])\n",
    "\n",
    "## Load a single file using xarray\n",
    "T2m_1980 = xr.open_dataset(f\"{era5_path}/1980_2m_temperature.nc\")\n",
    "T2m_1980.load()\n",
    "# loads into memory\n",
    "\n",
    "## open the first 3 files (but don't load to memory)\n",
    "T2m = xr.open_mfdataset(file_list[:3])"
   ]
  },
  {
   "cell_type": "markdown",
   "id": "098ec0c8-1583-4843-bb42-45197336dbc5",
   "metadata": {},
   "source": [
    "To subset data, use the ```.isel``` / ```.sel``` functions:"
   ]
  },
  {
   "cell_type": "code",
   "execution_count": null,
   "id": "14a6a227-0898-4bec-a6ad-9efe368e15c4",
   "metadata": {},
   "outputs": [],
   "source": [
    "## select data for Jan 1., two different ways\n",
    "print(\n",
    "    np.allclose(\n",
    "        T2m_1980[\"t2m\"].isel(time=0).values,\n",
    "        T2m_1980[\"t2m\"].sel(time=\"1980-01-01\").values,\n",
    "    )\n",
    ")\n",
    "\n",
    "\n",
    "## function to subset longitude/latitude\n",
    "def trim_to_north_atl(x):\n",
    "    \"\"\"trims data to the North Pacific region\"\"\"\n",
    "\n",
    "    ## lon/lat boundaries for N. Pacific\n",
    "    lon_range = [260, 360]\n",
    "    lat_range = [70, 3]\n",
    "\n",
    "    ## trim the data\n",
    "    x_trimmed = x.sel(longitude=slice(*lon_range), latitude=slice(*lat_range))\n",
    "\n",
    "    return x_trimmed"
   ]
  },
  {
   "cell_type": "markdown",
   "id": "6aeeda12-b0ac-4a99-bf1d-e72a4b662b17",
   "metadata": {},
   "source": [
    "If we only care about a subset of the data (i.e., not the whole globe), it can be helpful to subset it *while* loading. To do this, pass a subsetting function to ```xr.open_mfdataset```:"
   ]
  },
  {
   "cell_type": "code",
   "execution_count": null,
   "id": "9734dbb1-f0f0-4027-ad2b-743a95f2af78",
   "metadata": {},
   "outputs": [],
   "source": [
    "## Load trimmed data\n",
    "T2m_trimmed = xr.open_mfdataset(file_list[:3], preprocess=trim_to_north_atl).compute()\n",
    "\n",
    "## Compare size to original data\n",
    "print(f\"Shape of raw data:     {T2m['t2m'].shape}\")\n",
    "print(f\"Shape of trimmed data: {T2m_trimmed['t2m'].shape}\")"
   ]
  },
  {
   "cell_type": "markdown",
   "id": "596c4971-8666-4a7e-b8cd-5f4bc536a507",
   "metadata": {},
   "source": [
    "## plotting data"
   ]
  },
  {
   "cell_type": "markdown",
   "id": "f842b0e9-95cd-4db7-b783-3a5db881401f",
   "metadata": {},
   "source": [
    "First, let's define a function which draws a blank map (don't worry about the details for now)"
   ]
  },
  {
   "cell_type": "code",
   "execution_count": null,
   "id": "bbcbef75-143b-4cd1-8b89-b1d76dcf4e94",
   "metadata": {},
   "outputs": [],
   "source": [
    "## First, a generic plot setup function\n",
    "def plot_setup(ax, lon_range, lat_range, xticks, yticks, scale):\n",
    "    \"\"\"\n",
    "    Create map background for plotting spatial data.\n",
    "    Arguments:\n",
    "        - ax: Matplotlib object containing everything in the plot.\n",
    "            (I think of it as the plot \"canvas\")\n",
    "        - lon_range/lat_range: 2-element arrays, representing plot boundaries\n",
    "        - xticks/yticks: location for lon/lat labels\n",
    "        - scale: number which controls linewidth and fontsize\n",
    "\n",
    "    Returns a modified 'ax' object.\n",
    "    \"\"\"\n",
    "\n",
    "    ## specify transparency/linewidths\n",
    "    grid_alpha = 0.1 * scale\n",
    "    grid_linewidth = 0.5 * scale\n",
    "    coastline_linewidth = 0.3 * scale\n",
    "    label_size = 8 * scale\n",
    "\n",
    "    ## crop map and plot coastlines\n",
    "    ax.set_extent([*lon_range, *lat_range], crs=ccrs.PlateCarree())\n",
    "    ax.coastlines(linewidth=coastline_linewidth)\n",
    "\n",
    "    ## plot grid\n",
    "    gl = ax.gridlines(\n",
    "        draw_labels=True,\n",
    "        linestyle=\"--\",\n",
    "        alpha=grid_alpha,\n",
    "        linewidth=grid_linewidth,\n",
    "        color=\"k\",\n",
    "        zorder=1.05,\n",
    "    )\n",
    "\n",
    "    ## add tick labels\n",
    "    gl.bottom_labels = False\n",
    "    gl.right_labels = False\n",
    "    gl.xlabel_style = {\"size\": label_size}\n",
    "    gl.ylabel_style = {\"size\": label_size}\n",
    "    gl.ylocator = mticker.FixedLocator(yticks)\n",
    "    gl.xlocator = mticker.FixedLocator(xticks)\n",
    "\n",
    "    return ax, gl\n",
    "\n",
    "\n",
    "## Next, a function to plot the North Atlantic\n",
    "def plot_setup_north_atl(ax, scale=1):\n",
    "    \"\"\"Create map background for plotting spatial data.\n",
    "    Returns modified 'ax' object.\"\"\"\n",
    "\n",
    "    ## specify range and ticklabels for plot\n",
    "    lon_range = [-100, 0]\n",
    "    lat_range = [3, 70]\n",
    "    xticks = [-80, -60, -40, -20, 0]\n",
    "    yticks = [20, 40, 60]\n",
    "\n",
    "    ax, gl = plot_setup(ax, lon_range, lat_range, xticks, yticks, scale)\n",
    "\n",
    "    return ax, gl"
   ]
  },
  {
   "cell_type": "markdown",
   "id": "7ccc138a-2e6e-4d88-bd10-5c27c0948946",
   "metadata": {},
   "source": [
    "Next, create a blank canvas and modify it using our function"
   ]
  },
  {
   "cell_type": "code",
   "execution_count": null,
   "id": "cdc7357b-e030-41c3-9998-39819827ad78",
   "metadata": {},
   "outputs": [],
   "source": [
    "## Create a figure object (can contain multiple \"Axes\" object)\n",
    "fig = plt.figure(figsize=(6, 3))\n",
    "\n",
    "## add Axes object (blank canvas for our plot)\n",
    "ax = fig.add_subplot(projection=ccrs.PlateCarree())\n",
    "ax, gl = plot_setup_north_atl(ax)\n",
    "\n",
    "## Let's plot T2m data for Jan 1, 1980\n",
    "t2m_plot = ax.contourf(\n",
    "    T2m_1980.longitude,\n",
    "    T2m_1980.latitude,\n",
    "    T2m_1980[\"t2m\"].isel(time=0),\n",
    "    levels=np.arange(260, 304, 4),  # contour levels to plot\n",
    "    cmap=\"cmo.thermal\",  # colormap (see https://matplotlib.org/cmocean/)\n",
    "    extend=\"both\",  # includes values outside of contour bounds\n",
    ")\n",
    "\n",
    "## add a colorbar\n",
    "cb = fig.colorbar(t2m_plot, orientation=\"vertical\", label=r\"$K$\")\n",
    "\n",
    "plt.show()"
   ]
  },
  {
   "cell_type": "markdown",
   "id": "64620ca0-27d7-41ba-be38-7bc6a0e62678",
   "metadata": {},
   "source": [
    "## spatial average"
   ]
  },
  {
   "cell_type": "code",
   "execution_count": null,
   "id": "96722eee-9a04-4a02-bd0d-556a2ccef318",
   "metadata": {},
   "outputs": [],
   "source": [
    "## function to compute cosine-weighted average over longitude and latitude\n",
    "def spatial_avg(data):\n",
    "    \"\"\"function to compute spatial average of data on grid with constant\n",
    "    longitude/latitude spacing.\"\"\"\n",
    "\n",
    "    ## first, compute cosine of latitude (after converting degrees to radians)\n",
    "    latitude_radians = np.deg2rad(T2m_trimmed.latitude)\n",
    "    cos_lat = np.cos(latitude_radians)\n",
    "\n",
    "    ## get weighted average using xarray\n",
    "    avg = data.weighted(weights=cos_lat).mean([\"longitude\", \"latitude\"])\n",
    "\n",
    "    return avg\n",
    "\n",
    "\n",
    "## \"naive\" unweighted average over longitude and latitudes\n",
    "avg_unweighted = T2m_trimmed[\"t2m\"].mean([\"latitude\", \"longitude\"])\n",
    "\n",
    "## (correct) weighted average\n",
    "avg_weighted = spatial_avg(T2m_trimmed[\"t2m\"])\n",
    "\n",
    "## compare results:\n",
    "fig, ax = plt.subplots(figsize=(4, 3))\n",
    "ax.plot(avg_unweighted.time, avg_unweighted, label=\"unweighted\")\n",
    "ax.plot(avg_weighted.time, avg_weighted, label=\"weighted\")\n",
    "\n",
    "## label plot\n",
    "ax.legend(prop={\"size\": 10})\n",
    "ax.set_xlabel(\"Time\")\n",
    "ax.set_ylabel(r\"$K$\")\n",
    "ax.set_xticks(ax.get_xticks()[::3])\n",
    "ax.xaxis.set_major_formatter(mdates.DateFormatter(\"%Y\"))\n",
    "\n",
    "plt.show()"
   ]
  },
  {
   "cell_type": "markdown",
   "id": "bc71023d-a139-4497-b730-06868a7d64c8",
   "metadata": {},
   "source": [
    "### Why do we need to weight by the cosine of latitude?\n",
    "Not every element in our array represents an equal surface area of the earth: on a \"regular\" longitude-latitude grid (where the longitude and latitude spacing is constant) the area of gridcells decreases as you move away from the equator to the poles. Denoting longitude and latitude as $\\theta$ and $\\phi$, and longitude and latitude spacing as $\\delta\\theta$ and $\\delta\\phi$, the area of each gridcell is given by $\\delta A ~= R^2\\cos(\\phi)\\delta\\phi\\delta\\theta$, where $R$ is the radius of the earth. The weighted average of a variable $f$ on the sphere is then given by:\n",
    "\\begin{align}\n",
    "    \\overline{f} &= \\frac{\\sum f~\\delta A}{\\sum \\delta A} = \\frac{\\sum f~R^2\\cos\\left(\\phi\\right)~\\delta\\phi~\\delta\\theta}{\\sum R^2\\cos\\left(\\phi\\right)~\\delta\\phi~\\delta\\theta} = \\frac{R^2 ~\\delta\\phi~\\delta\\theta \\sum f~\\cos\\left(\\phi\\right)}{R^2~\\delta\\phi~\\delta\\theta \\sum \\cos(\\phi)} = \\frac{\\sum f\\cos(\\phi)}{\\sum\\cos(\\phi)},\n",
    "\\end{align}\n",
    "where we use the fact that $R^2$, $\\delta\\theta$, and $\\delta\\phi$ are constant (and can be pulled out of the summation). Therefore, to compute $\\overline{f}$, we need to compute a *weighted* average, where the weights are the cosine of the latitude."
   ]
  },
  {
   "cell_type": "markdown",
   "id": "89ca2b89-eb50-4868-925e-b53e3adbbfcb",
   "metadata": {},
   "source": [
    "## identifying (and removing) the seasonal cycle"
   ]
  },
  {
   "cell_type": "code",
   "execution_count": null,
   "id": "73483605-61f2-43ca-bea4-9e033b99cd1d",
   "metadata": {},
   "outputs": [],
   "source": [
    "seasonal_cyc = avg_weighted.groupby(\"time.month\").mean()\n",
    "anomalies = avg_weighted.groupby(\"time.month\") - seasonal_cyc"
   ]
  },
  {
   "cell_type": "markdown",
   "id": "f07db083-6bb2-4460-b92c-cc890eaccb72",
   "metadata": {},
   "source": [
    "Plot results"
   ]
  },
  {
   "cell_type": "code",
   "execution_count": null,
   "id": "365e57e9-6159-4a18-a1d5-4b34714f586e",
   "metadata": {},
   "outputs": [],
   "source": [
    "## plot seasonal cycle\n",
    "fig, ax = plt.subplots(figsize=(3, 2))\n",
    "ax.plot(seasonal_cyc.month, seasonal_cyc)\n",
    "ax.set_xticks([1, 6, 11], labels=[\"Jan\", \"Jun\", \"Nov\"])\n",
    "ax.set_yticks(ticks=[285, 290, 295])\n",
    "ax.set_ylabel(r\"$K$\")\n",
    "ax.set_xlabel(\"Month\")\n",
    "ax.set_title(\"Mean seasonal cycle\")\n",
    "plt.show()\n",
    "\n",
    "\n",
    "## Plot anomalies\n",
    "fig, ax = plt.subplots(figsize=(3, 2))\n",
    "\n",
    "## plot raw data\n",
    "p = ax.plot(avg_weighted.time, avg_weighted, label=\"w/ seasonal cycle\", alpha=0.5)\n",
    "ax.set_ylabel(r\"$T$ before ($K$)\", color=p[0].get_color())\n",
    "ax.set_yticks(ticks=[285, 290, 295], labels=[285, 290, 295], color=p[0].get_color())\n",
    "\n",
    "## plot after removing mean seasonal cycle\n",
    "ax_anom = ax.twinx()\n",
    "ax_anom.plot(anomalies.time, anomalies, label=\"w/o seasonal cycle\", c=\"k\")\n",
    "ax_anom.set_ylabel(r\"$T$ after ($K$)\")\n",
    "\n",
    "## Label plot\n",
    "ax.set_xticks(ax.get_xticks()[::3])\n",
    "ax.xaxis.set_major_formatter(mdates.DateFormatter(\"%Y\"))\n",
    "ax.set_title(\"Before/after removing seasonal cycle\")\n",
    "ax.set_xlabel(\"Year\")\n",
    "\n",
    "plt.show()"
   ]
  },
  {
   "cell_type": "markdown",
   "id": "7aa5a7e0-09c8-4335-b3a1-7bbac2771737",
   "metadata": {},
   "source": [
    "Note we can compute the seasonal cycle at every gridpoint separately:"
   ]
  },
  {
   "cell_type": "code",
   "execution_count": null,
   "id": "25580db2-d770-46cb-8ed8-821acc0970b4",
   "metadata": {},
   "outputs": [],
   "source": [
    "## compute seasonal cycle, and plot at diff. b/n july and jan\n",
    "seasonal_cyc_spatial = T2m_trimmed[\"t2m\"].groupby(\"time.month\").mean()\n",
    "jul_jan_diff = seasonal_cyc_spatial.sel(month=7) - seasonal_cyc_spatial.sel(month=1)\n",
    "\n",
    "## Create a figure object (can contain multiple \"Axes\" object)\n",
    "fig = plt.figure(figsize=(6, 3))\n",
    "ax = fig.add_subplot(projection=ccrs.PlateCarree())\n",
    "ax, gl = plot_setup_north_atl(ax)\n",
    "\n",
    "## Plot data\n",
    "t2m_plot = ax.contourf(\n",
    "    jul_jan_diff.longitude,\n",
    "    jul_jan_diff.latitude,\n",
    "    jul_jan_diff,\n",
    "    levels=np.arange(-30, 34, 4),\n",
    "    cmap=\"cmo.balance\",\n",
    "    extend=\"both\",\n",
    ")\n",
    "\n",
    "## add a colorbar and label\n",
    "cb = fig.colorbar(\n",
    "    t2m_plot, orientation=\"vertical\", label=r\"$K$\", ticks=np.arange(-30, 45, 15)\n",
    ")\n",
    "ax.set_title(\"Jul – Jan difference\")\n",
    "\n",
    "plt.show()"
   ]
  },
  {
   "cell_type": "markdown",
   "id": "2c0ffad7-b531-40f7-a6cc-7560f1c05056",
   "metadata": {},
   "source": [
    "Check that the order of averaging doesn't matter:"
   ]
  },
  {
   "cell_type": "code",
   "execution_count": null,
   "id": "b9bd9bbd-79b4-4d93-b727-05f53d23ea05",
   "metadata": {},
   "outputs": [],
   "source": [
    "##  to spatial dataset\n",
    "print(np.allclose(spatial_avg(seasonal_cyc_spatial), seasonal_cyc))"
   ]
  },
  {
   "cell_type": "markdown",
   "id": "e077ebac-9676-48e0-aed8-c6080ebf7932",
   "metadata": {},
   "source": [
    "## interpolation / resampling"
   ]
  },
  {
   "cell_type": "markdown",
   "id": "45cd860e-b88d-4e62-83c4-c2c35a3d49d1",
   "metadata": {},
   "source": [
    "### averaging in time"
   ]
  },
  {
   "cell_type": "code",
   "execution_count": null,
   "id": "e12c4422-da63-4d57-b7c4-832abcf03cd7",
   "metadata": {},
   "outputs": [],
   "source": [
    "## Resample to quarterly (3-month) averages, where\n",
    "## the first quarter starts in December (\"QS-DEC\"),\n",
    "## and each point is labeled by the first month in the quarter\n",
    "anomalies_seasonal = anomalies.resample({\"time\": \"QS-DEC\"}).mean()\n",
    "\n",
    "## To extract the Dec-Jan-Feb season:\n",
    "fig, ax = plt.subplots(figsize=(4, 3))\n",
    "\n",
    "## plot data\n",
    "ax.step(anomalies_seasonal.time, anomalies_seasonal, where=\"post\", label=\"seasonal\")\n",
    "ax.plot(anomalies.time, anomalies, c=\"k\", alpha=0.3, label=\"monthly\")\n",
    "\n",
    "## label plot\n",
    "ax.set_ylabel(r\"$T$ anomaly ($K$)\")\n",
    "ax.set_yticks([-0.5, 0.0, 0.5])\n",
    "ax.set_xticks(ax.get_xticks()[::3])\n",
    "ax.xaxis.set_major_formatter(mdates.DateFormatter(\"%Y\"))\n",
    "ax.legend()\n",
    "\n",
    "plt.show()"
   ]
  },
  {
   "cell_type": "code",
   "execution_count": null,
   "id": "1cc6ae6a-1633-43ef-9fd7-1b8ef665b911",
   "metadata": {},
   "outputs": [],
   "source": [
    "## annual mean, 2 different ways\n",
    "anomalies_annual0 = anomalies.resample({\"time\": \"YS-JAN\"}).mean()\n",
    "anomalies_annual1 = anomalies.groupby(\"time.year\").mean()\n",
    "print(np.allclose(anomalies_annual0, anomalies_annual1))"
   ]
  },
  {
   "cell_type": "markdown",
   "id": "8db7d07e-440e-436f-bded-734d9ce2b445",
   "metadata": {},
   "source": [
    "### Resampling in space"
   ]
  },
  {
   "cell_type": "code",
   "execution_count": null,
   "id": "f4425bb6-5d68-4c14-af81-900bdd7dd161",
   "metadata": {},
   "outputs": [],
   "source": [
    "## Downsample by averaging in space\n",
    "lat_coarse = T2m_trimmed.latitude[::4]\n",
    "lon_coarse = T2m_trimmed.longitude[::4]\n",
    "\n",
    "## Do the downsampling (linear interpolation is default)\n",
    "T2m_coarse = T2m_trimmed.interp({\"longitude\": lon_coarse, \"latitude\": lat_coarse})\n",
    "\n",
    "print(f\"Original shape:     {T2m_trimmed[\"t2m\"].shape}\")\n",
    "print(f\"After downsampling: {T2m_coarse[\"t2m\"].shape}\")"
   ]
  },
  {
   "cell_type": "markdown",
   "id": "74f10ac2-6978-43b6-b1d2-9f753a918d68",
   "metadata": {},
   "source": [
    "## Detrending"
   ]
  },
  {
   "cell_type": "markdown",
   "id": "37921300-1fc3-4f65-a87d-520127f4b1e6",
   "metadata": {},
   "source": [
    "To illustrate detrending, let's load in a longer timeseries"
   ]
  },
  {
   "cell_type": "code",
   "execution_count": null,
   "id": "d947f2bb-92ce-4733-800f-83b2966a49ed",
   "metadata": {},
   "outputs": [],
   "source": [
    "## define a preprocessing function\n",
    "def preprocess(data):\n",
    "    \"\"\"pre-process data before loading it:\n",
    "    1. Downsample in space\n",
    "    2. only get DJF months\n",
    "    \"\"\"\n",
    "    ## 1. Downsample in space\n",
    "    data_ = data.interp({\"longitude\": lon_coarse, \"latitude\": lat_coarse}).compute()\n",
    "\n",
    "    ## 2. Find indices of winter season\n",
    "    month = data_.time.dt.month\n",
    "    is_winter = (month == 12) | (month <= 2)\n",
    "\n",
    "    ## select winter season\n",
    "    data_ = data_.sel(time=is_winter)\n",
    "\n",
    "    return data_\n",
    "\n",
    "\n",
    "def djf_avg(data):\n",
    "    \"\"\"function to get Dec-Jan-Feb average\"\"\"\n",
    "\n",
    "    ## first, resample from monthly to seasonal\n",
    "    data_ = data.resample({\"time\": \"QS-DEC\"}).mean()\n",
    "\n",
    "    ## next, select DJF season\n",
    "    is_winter = data_.time.dt.month == 12\n",
    "    data_ = data_.sel(time=is_winter)\n",
    "\n",
    "    ## for convenience, replace \"time\" index with \"year\":\n",
    "    ## label with year for Jan, (so Dec-'78,Jan-'79,Feb-'79 -> 1979)\n",
    "    year = data_.time.dt.year.values + 1\n",
    "    data_[\"time\"] = year\n",
    "    data_ = data_.rename({\"time\": \"year\"})\n",
    "\n",
    "    return data_\n",
    "\n",
    "\n",
    "## load prepped data\n",
    "T2m_long = xr.open_mfdataset(file_list, preprocess=preprocess)\n",
    "\n",
    "## Get DJF average\n",
    "T2m_djf = djf_avg(T2m_long)"
   ]
  },
  {
   "cell_type": "markdown",
   "id": "cbf3d9bc-24a2-4b9c-922d-45d00d5627e3",
   "metadata": {},
   "source": [
    "Next, write a function to compute a trend along a given dimension"
   ]
  },
  {
   "cell_type": "code",
   "execution_count": null,
   "id": "0b61e112-09a5-41a3-a134-d29016764023",
   "metadata": {},
   "outputs": [],
   "source": [
    "def get_trend(data, dim=\"year\"):\n",
    "    \"\"\"Get linear trend for an xr.dataarray along specified dimension\"\"\"\n",
    "\n",
    "    ## Get coefficients for best fit\n",
    "    polyfit_coefs = data.polyfit(dim=dim, deg=1)[\"polyfit_coefficients\"]\n",
    "\n",
    "    ## Get best fit line (linear trend in this case)\n",
    "    trend = xr.polyval(data[dim], polyfit_coefs)\n",
    "\n",
    "    return trend\n",
    "\n",
    "\n",
    "## compute the trend\n",
    "T2m_trend = get_trend(T2m_djf[\"t2m\"])\n",
    "\n",
    "## Get detrended version\n",
    "T2m_detrended = T2m_djf[\"t2m\"] - T2m_trend\n",
    "\n",
    "## compute spatial averages\n",
    "T2m_trend_avg = spatial_avg(T2m_trend)\n",
    "T2m_detrended_avg = spatial_avg(T2m_detrended)\n",
    "T2m_djf_avg = spatial_avg(T2m_djf[\"t2m\"])\n",
    "\n",
    "\n",
    "## plot result\n",
    "fig, ax = plt.subplots(figsize=(3, 2))\n",
    "ax.plot(T2m_djf_avg.year, T2m_djf_avg, label=\"DJF\")\n",
    "ax.plot(T2m_trend_avg.year, T2m_trend_avg, label=\"DJF trend\", c=\"k\", alpha=0.3)\n",
    "ax.plot(\n",
    "    T2m_detrended_avg.year,\n",
    "    T2m_detrended_avg + T2m_trend_avg.mean(),\n",
    "    label=\"DJF detrended\",\n",
    ")\n",
    "ax.set_yticks([285, 286])\n",
    "ax.set_xticks([1980, 2000, 2020])\n",
    "ax.legend(prop={\"size\": 8})\n",
    "ax.set_title(r\"North Atlantic $T_{2m}$\")\n",
    "ax.set_xlabel(\"Year\")\n",
    "ax.set_ylabel(r\"$T_{2m}$ ($K$)\")\n",
    "plt.show()"
   ]
  },
  {
   "cell_type": "markdown",
   "id": "be52455f-0148-4159-97f9-93180b592afb",
   "metadata": {},
   "source": [
    "## grid-wise and grid-to-point correlation"
   ]
  },
  {
   "cell_type": "markdown",
   "id": "99c91eab-c8b9-420b-874d-392353f74557",
   "metadata": {},
   "source": [
    "Load in sea level pressure from ERA5"
   ]
  },
  {
   "cell_type": "code",
   "execution_count": null,
   "id": "23603359-ca13-4cd2-8f4c-68b48955c5ab",
   "metadata": {},
   "outputs": [],
   "source": [
    "## Get list of SLP files\n",
    "era5_path_slp = (\n",
    "    f\"{cmip6_fp}/era5/reanalysis/single-levels/monthly-means/mean_sea_level_pressure\"\n",
    ")\n",
    "slp_file_list = glob.glob(f\"{era5_path_slp}/*.nc\")\n",
    "\n",
    "## Open SLP over N. Atlantic\n",
    "slp = xr.open_mfdataset(slp_file_list, preprocess=preprocess)[\"msl\"]\n",
    "\n",
    "## convert from Pa to hPa (1 hPa = 100 Pa)\n",
    "slp *= 1 / 100\n",
    "\n",
    "## Get DJF average\n",
    "slp_djf = djf_avg(slp)\n",
    "\n",
    "## detrend\n",
    "slp_detrended = slp_djf - get_trend(slp_djf)"
   ]
  },
  {
   "cell_type": "markdown",
   "id": "5b417e25-1134-4f00-aa02-86bfd1edf95c",
   "metadata": {},
   "source": [
    "Get point-wise correlation between SLP and $T_{2m}$"
   ]
  },
  {
   "cell_type": "code",
   "execution_count": null,
   "id": "2a1ae7cb-2c30-441f-986a-1b52a06fd588",
   "metadata": {},
   "outputs": [],
   "source": [
    "## compute correlation\n",
    "slp_T2m_corr = xr.corr(slp_detrended, T2m_detrended, dim=\"year\")\n",
    "\n",
    "\n",
    "def make_correlation_plot(correlation):\n",
    "\n",
    "    ## Plot results\n",
    "    fig = plt.figure(figsize=(6, 3))\n",
    "    ax = fig.add_subplot(projection=ccrs.PlateCarree())\n",
    "    ax, gl = plot_setup_north_atl(ax)\n",
    "\n",
    "    ## Plot data\n",
    "    corr_plot = ax.contourf(\n",
    "        correlation.longitude,\n",
    "        correlation.latitude,\n",
    "        correlation,\n",
    "        levels=src.utils.make_cb_range(1, 0.1),\n",
    "        cmap=\"cmo.balance\",\n",
    "        extend=\"both\",\n",
    "    )\n",
    "\n",
    "    ## add a colorbar and label\n",
    "    cb = fig.colorbar(corr_plot, orientation=\"vertical\", ticks=[-1, 0, 1])\n",
    "\n",
    "    return fig, ax\n",
    "\n",
    "\n",
    "fig, ax = make_correlation_plot(slp_T2m_corr)\n",
    "ax.set_title(r\"Correlation b/n $T_{2m}$ and SLP during winter\")\n",
    "plt.show()"
   ]
  },
  {
   "cell_type": "markdown",
   "id": "a5828d62-00bd-4f16-a214-5be61d341269",
   "metadata": {},
   "source": [
    "## Next, look at correlation between a single point the rest of the grid"
   ]
  },
  {
   "cell_type": "code",
   "execution_count": null,
   "id": "3cac797e-8437-45d8-b708-3dadcaa5e415",
   "metadata": {},
   "outputs": [],
   "source": [
    "## get SLP near Woods Hole\n",
    "T2m_woodshole = T2m_detrended.interp(latitude=41.5, longitude=288.5)\n",
    "\n",
    "## get correlation between Woods Hole T2m and North Atlantic SLP\n",
    "T2mWH_slp_corr = xr.corr(T2m_woodshole, slp_detrended, dim=\"year\")\n",
    "\n",
    "fig, ax = make_correlation_plot(T2mWH_slp_corr)\n",
    "ax.scatter(288.5, 41.5, marker=\"*\", c=\"k\", s=100)\n",
    "ax.set_title(r\"Correlation b/n Woods Hole SLP and $T_{2m}$ during winter\")\n",
    "plt.show()"
   ]
  },
  {
   "cell_type": "markdown",
   "id": "0da01078-2a64-4042-9def-ccc97092c352",
   "metadata": {},
   "source": [
    "## Regridding data"
   ]
  },
  {
   "cell_type": "markdown",
   "id": "bc06378f-c907-47f5-8a99-ddc99ebafd39",
   "metadata": {},
   "source": [
    "Next, we're going to load data on a non-regular grid (tripolar, in this case). Specifically, we'll look at sea surface temperature (SST) from the MIROC6 model's historical simulation. We'll show how to plot the data on it's native grid and how to regrid it to a regular lon/lat grid."
   ]
  },
  {
   "cell_type": "markdown",
   "id": "fe88eb18-425c-4e56-acfc-81aa907821d2",
   "metadata": {},
   "source": [
    "#### Load the data"
   ]
  },
  {
   "cell_type": "code",
   "execution_count": null,
   "id": "4ec2d287-e207-4e53-9a70-8390d9bb11b5",
   "metadata": {},
   "outputs": [],
   "source": [
    "miroc6_fp = f\"{cmip6_fp}/cmip6/CMIP/MIROC/MIROC6/historical/r1i1p1f1/Omon/tos/gn/1\"\n",
    "fname = \"tos_Omon_MIROC6_historical_r1i1p1f1_gn_195001-201412.nc\"\n",
    "sst_miroc6 = xr.open_dataset(f\"{miroc6_fp}/{fname}\")\n",
    "sst_miroc6 = sst_miroc6.isel(time=slice(-36, None)).compute()"
   ]
  },
  {
   "cell_type": "markdown",
   "id": "b13de361-4453-41fc-83a0-52407f96a95e",
   "metadata": {},
   "source": [
    "#### Regridding to regular lon/lat"
   ]
  },
  {
   "cell_type": "code",
   "execution_count": null,
   "id": "fddb3e87-d6c6-4d8b-b963-20c7778a217a",
   "metadata": {},
   "outputs": [],
   "source": [
    "## should we use custom grid?\n",
    "use_custom_grid = True\n",
    "\n",
    "if use_custom_grid:\n",
    "    # create regular lon/lat grid\n",
    "    grid = xr.DataArray(\n",
    "        data=None,\n",
    "        coords={\"longitude\": np.arange(0, 360), \"latitude\": np.arange(-90, 91)},\n",
    "        dims=[\"longitude\", \"latitude\"],\n",
    "    )\n",
    "\n",
    "else:\n",
    "    # use ERA5 grid\n",
    "    grid = T2m_detrended.isel(year=0)\n",
    "\n",
    "## do the regridding\n",
    "regridder = xe.Regridder(ds_in=sst_miroc6, ds_out=grid, method=\"bilinear\")\n",
    "sst_miroc6_regridded = regridder(sst_miroc6)"
   ]
  },
  {
   "cell_type": "markdown",
   "id": "073a3498-4a7e-4960-bc37-f37e70f86f25",
   "metadata": {},
   "source": [
    "#### Plot data on native and regular grids"
   ]
  },
  {
   "cell_type": "code",
   "execution_count": null,
   "id": "61df4b25-31ba-44a6-bd8f-d03f83da93f8",
   "metadata": {},
   "outputs": [],
   "source": [
    "## set up the plot\n",
    "fig = plt.figure(figsize=(10, 2.5))\n",
    "\n",
    "## canvas for plot on native grid\n",
    "ax = fig.add_subplot(1, 2, 1, projection=ccrs.PlateCarree())\n",
    "ax, gl = plot_setup_north_atl(ax)\n",
    "\n",
    "## canvas for plot with regridded data\n",
    "ax_regridded = fig.add_subplot(1, 2, 2, projection=ccrs.PlateCarree())\n",
    "ax_regridded, gl_regridded = plot_setup_north_atl(ax_regridded)\n",
    "\n",
    "## Plot data on native grid\n",
    "ax.set_title(\"Native grid\")\n",
    "sst_plot = ax.pcolormesh(\n",
    "    sst_miroc6.longitude,\n",
    "    sst_miroc6.latitude,\n",
    "    sst_miroc6[\"tos\"].mean(\"time\"),\n",
    "    cmap=\"cmo.thermal\",\n",
    "    vmin=-2,\n",
    "    vmax=32,\n",
    ")\n",
    "cb = fig.colorbar(sst_plot)\n",
    "\n",
    "## Plot regridded data\n",
    "ax_regridded.set_title(\"Regridded\")\n",
    "xx, yy = np.meshgrid(sst_miroc6_regridded.longitude, sst_miroc6_regridded.latitude)\n",
    "sst_plot_regridded = ax_regridded.pcolormesh(\n",
    "    xx,\n",
    "    yy,\n",
    "    sst_miroc6_regridded[\"tos\"].mean(\"time\"),\n",
    "    cmap=\"cmo.thermal\",\n",
    "    vmin=-2,\n",
    "    vmax=32,\n",
    ")\n",
    "cb = fig.colorbar(sst_plot_regridded, ticks=[0, 10, 20, 30])\n",
    "\n",
    "plt.show()"
   ]
  },
  {
   "cell_type": "markdown",
   "id": "75d7b9cc-88af-4a31-961a-2ccf9fcea777",
   "metadata": {},
   "source": [
    "# 1. Example: rainfall in Woods Hole"
   ]
  },
  {
   "cell_type": "markdown",
   "id": "b35ee643-bc9b-4492-91af-c733170d9829",
   "metadata": {},
   "source": [
    "# 2. Example: analysis of synthetic climate"
   ]
  },
  {
   "cell_type": "markdown",
   "id": "537c726f-c8a5-4b3f-b38f-6c96f0b68839",
   "metadata": {},
   "source": [
    "#### Simulate synthetic climate"
   ]
  },
  {
   "cell_type": "code",
   "execution_count": null,
   "id": "a6885f12-a1fa-4597-bca8-9eeb8729c376",
   "metadata": {},
   "outputs": [],
   "source": [
    "## specify number of ensemble members and end year for simulation\n",
    "n_members = 1000\n",
    "tf = 2006\n",
    "\n",
    "## simulation pre-industrial and warming scenarios\n",
    "T_PI = src.utils.markov_simulation(ti=1850, tf=tf, n_members=n_members, trend=0)\n",
    "T_warming = src.utils.markov_simulation(\n",
    "    ti=1850, tf=tf, n_members=n_members, trend=0.005\n",
    ")\n",
    "\n",
    "## for convenience, get subset of pre-industrial control which overlaps with warming\n",
    "T_PI_hist = T_PI.sel(year=T_warming.year)"
   ]
  },
  {
   "cell_type": "markdown",
   "id": "64e911ee-1cf4-4249-8f11-26e274c0629a",
   "metadata": {},
   "source": [
    "#### Plot a random sample from each simulation"
   ]
  },
  {
   "cell_type": "code",
   "execution_count": null,
   "id": "bb21e67f-dcf4-483b-913d-5ad4535d30f7",
   "metadata": {},
   "outputs": [],
   "source": [
    "# choose a random sample\n",
    "idx = rng.choice(T_PI.ensemble_member)\n",
    "\n",
    "# make the plot\n",
    "fig, ax = plt.subplots(figsize=(4, 3))\n",
    "\n",
    "ax.plot(\n",
    "    T_PI_hist.year,\n",
    "    T_PI_hist.sel(ensemble_member=idx),\n",
    "    color=\"black\",\n",
    "    label=\"P.I. control\",\n",
    ")\n",
    "ax.plot(\n",
    "    T_warming.year, T_warming.sel(ensemble_member=idx), color=\"red\", label=\"warming\"\n",
    ")\n",
    "\n",
    "## label axes\n",
    "ax.set_xlabel(\"Year\")\n",
    "ax.set_ylabel(r\"SST anomaly ($^{\\circ}C$)\")\n",
    "ax.legend(prop={\"size\": 10})\n",
    "ax.set_title(\"random ensemble member\")\n",
    "\n",
    "plt.show()"
   ]
  },
  {
   "cell_type": "markdown",
   "id": "ed0bc731-d9cd-48e6-b8a9-5c6b1ed0c771",
   "metadata": {},
   "source": [
    "#### Plot ensemble mean and spread"
   ]
  },
  {
   "cell_type": "code",
   "execution_count": null,
   "id": "f225213f-3d63-49ba-92e9-34b99ced5560",
   "metadata": {},
   "outputs": [],
   "source": [
    "def plot_ensemble_spread(ax, T, color, label=None):\n",
    "    \"\"\"plot mean and +/- 1 standard dev. of ensemble on\n",
    "    given ax object.\"\"\"\n",
    "\n",
    "    ## compute stats\n",
    "    mean = T.mean(\"ensemble_member\")\n",
    "    std = T.std(\"ensemble_member\")\n",
    "\n",
    "    ## plot mean\n",
    "    mean_plot = ax.plot(mean.year, mean, label=label, color=color)\n",
    "\n",
    "    ## plot spread\n",
    "    ax.plot(mean.year, mean + std, lw=0.5, c=mean_plot[0].get_color())\n",
    "    ax.plot(mean.year, mean - std, lw=0.5, c=mean_plot[0].get_color())\n",
    "\n",
    "    return\n",
    "\n",
    "\n",
    "## Plot ensemble stats\n",
    "fig, ax = plt.subplots(figsize=(4, 3))\n",
    "\n",
    "## plot data\n",
    "plot_ensemble_spread(ax, T_PI_hist, color=\"black\", label=\"P.I. control\")\n",
    "plot_ensemble_spread(ax, T_warming, color=\"red\", label=\"warming\")\n",
    "\n",
    "## label axes\n",
    "ax.set_xlabel(\"Year\")\n",
    "ax.set_ylabel(r\"SST anomaly ($^{\\circ}C$)\")\n",
    "ax.legend(prop={\"size\": 10})\n",
    "ax.set_title(\"Ensemble results\")\n",
    "\n",
    "plt.show()"
   ]
  },
  {
   "cell_type": "markdown",
   "id": "965a597d-76be-43bf-a704-f733f5e593af",
   "metadata": {},
   "source": [
    "#### Is the trend significant?\n",
    "- histogram for PI control (generate by computing trend for 1,000 random 40-year segments)\n",
    "- compare to trend in warming simulation over last 40 years and for period 1900-1950"
   ]
  },
  {
   "cell_type": "code",
   "execution_count": null,
   "id": "3ce7c302-1179-4e66-90aa-c0cae6e2b628",
   "metadata": {},
   "outputs": [],
   "source": [
    "def get_slope(data, dim=\"year\"):\n",
    "    \"\"\"Function to compute linear trend of SST,\n",
    "    in deg/century.\"\"\"\n",
    "\n",
    "    ## fit linear trend to data\n",
    "    coefs = data.polyfit(dim=dim, deg=1)[\"polyfit_coefficients\"]\n",
    "\n",
    "    ## Get slope (degree=1; intercept is given by degree=0).\n",
    "    ## Note: units are in deg/year\n",
    "    slope = coefs.sel(degree=1)\n",
    "\n",
    "    ## convert units to deg/century\n",
    "    slope *= 100\n",
    "\n",
    "    return slope\n",
    "\n",
    "\n",
    "def plot_histogram_comparison(ax, samples0, samples1, label0=None, label1=None):\n",
    "    \"\"\"\n",
    "    Compute two histograms, one each for samples0 and samples1.\n",
    "    Plot the results on the specified ax object, and label histograms\n",
    "    'label0' and 'label1', respectively.\n",
    "    \"\"\"\n",
    "\n",
    "    ## First, make the histograms.\n",
    "    # specify histogram bins\n",
    "    bin_width = 0.5\n",
    "    bin_edges = np.arange(-4.75, 4.75 + bin_width, bin_width)\n",
    "\n",
    "    # compute histograms\n",
    "    hist0, _ = np.histogram(samples0, bins=bin_edges)\n",
    "    hist1, _ = np.histogram(samples1, bins=bin_edges)\n",
    "\n",
    "    ## plot histograms\n",
    "    ax.stairs(values=hist0, edges=bin_edges, color=\"k\", label=label0)\n",
    "    ax.stairs(\n",
    "        values=hist1,\n",
    "        edges=bin_edges,\n",
    "        color=\"r\",\n",
    "        label=label1,\n",
    "        fill=True,\n",
    "        alpha=0.3,\n",
    "    )\n",
    "\n",
    "    ax.set_ylabel(\"Count\")\n",
    "    ax.set_xlabel(r\"Warming trend ($^{\\circ}C~/~$century)\")\n",
    "\n",
    "    ## label plot\n",
    "    ax.set_ylabel(\"Count\")\n",
    "    ax.set_xlabel(r\"Warming trend ($^{\\circ}C~/~$century)\")\n",
    "\n",
    "    return ax\n",
    "\n",
    "\n",
    "def plot_histogram_comparison_wrapper(ax, years):\n",
    "    \"\"\"wrapper function to plot histogram comparison for given subset of years\"\"\"\n",
    "\n",
    "    ## Get trends for each ensemble members\n",
    "    T_PI_subset = T_PI.sel(year=years)\n",
    "    T_warming_subset = T_warming.sel(year=years)\n",
    "    trends_PI = get_slope(T_PI_subset)\n",
    "    trends_warming = get_slope(T_warming_subset)\n",
    "\n",
    "    ## make the plot\n",
    "    ax = plot_histogram_comparison(\n",
    "        ax,\n",
    "        samples0=trends_PI,\n",
    "        samples1=trends_warming,\n",
    "        label0=\"PI control\",\n",
    "        label1=\"warming\",\n",
    "    )\n",
    "\n",
    "    ## plot ensemble means\n",
    "    T_PI_mean = T_PI_subset.mean(\"ensemble_member\")\n",
    "    T_warming_mean = T_warming_subset.mean(\"ensemble_member\")\n",
    "    ax.axvline(get_slope(T_PI_mean), ls=\"--\", c=\"k\", lw=1)\n",
    "    ax.axvline(get_slope(T_warming_mean), ls=\"--\", c=\"r\", lw=1)\n",
    "\n",
    "    return ax"
   ]
  },
  {
   "cell_type": "code",
   "execution_count": null,
   "id": "c647d3f3-a9bc-4020-b421-80ee7543cfd8",
   "metadata": {},
   "outputs": [],
   "source": [
    "## Make plot\n",
    "fig, axs = plt.subplots(1, 2, figsize=(8, 3))\n",
    "\n",
    "## Plot data for each subset of years\n",
    "axs[0] = plot_histogram_comparison_wrapper(axs[0], years=np.arange(1850, 1890))\n",
    "axs[1] = plot_histogram_comparison_wrapper(axs[1], years=np.arange(1966, 2006))\n",
    "\n",
    "## label plot\n",
    "axs[0].set_title(\"First 40 years\")\n",
    "axs[1].set_title(\"Last 40 years\")\n",
    "axs[0].legend(prop={\"size\": 10})\n",
    "axs[1].set_yticks([])\n",
    "axs[1].set_ylabel(None)\n",
    "axs[1].set_ylim(axs[0].get_ylim())\n",
    "\n",
    "plt.show()"
   ]
  },
  {
   "cell_type": "markdown",
   "id": "72cac783-159f-4169-8768-a222707f4ee1",
   "metadata": {},
   "source": [
    "# Now it's your turn...\n",
    "Start by picking a variable/index to analyze (e.g., SST at a specific location or averaged over a specified region), a reanalysis product from the CMIP archive, and a model from the CMIP archive.\n",
    "\n",
    "#### Model validation\n",
    "1. Load the data and make a plot.\n",
    "2. Compute the index for both the reanalysis and the model (in the historical simulation).\n",
    "3. How do the statistics compare over the overlapping period? (e.g., mean, standard deviation, seasonal cycle, power spectrum).\n",
    "\n",
    "#### Is there evidence of a climate change signal?\n",
    "1. Next, compute the index in the model's pre-industrial control simulation (__should this be a last millenium simulation?).\n",
    "2. Create a histogram of trends in the control simulation by computing the trends of randomly-sampled 40-year segments.\n",
    "3. Based on this histogram, is the model-simulated trend (from the last 40 years, in the historical simulation) significant?\n",
    "   \n",
    "#### What are the projected future changes?\n",
    "1. Next, compute the index in a future warming scenario (using the same model).\n",
    "2. How do the statistics/histogram shift in the future warming scenario?"
   ]
  }
 ],
 "metadata": {
  "kernelspec": {
   "display_name": "Python 3 (ipykernel)",
   "language": "python",
   "name": "python3"
  },
  "language_info": {
   "codemirror_mode": {
    "name": "ipython",
    "version": 3
   },
   "file_extension": ".py",
   "mimetype": "text/x-python",
   "name": "python",
   "nbconvert_exporter": "python",
   "pygments_lexer": "ipython3",
   "version": "3.12.3"
  }
 },
 "nbformat": 4,
 "nbformat_minor": 5
}
