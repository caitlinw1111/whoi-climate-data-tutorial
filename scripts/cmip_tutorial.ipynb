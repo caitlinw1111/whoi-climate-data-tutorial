{
 "cells": [
  {
   "cell_type": "code",
   "execution_count": null,
   "id": "39f6f094-7e73-40df-832b-036df573b202",
   "metadata": {},
   "outputs": [],
   "source": [
    "import xarray as xr\n",
    "import numpy as np\n",
    "import pandas as pd\n",
    "from tqdm import tqdm\n",
    "import matplotlib.pyplot as plt\n",
    "from matplotlib.dates import DateFormatter\n",
    "import seaborn as sns\n",
    "import cftime\n",
    "import src.utils\n",
    "\n",
    "## set plotting style\n",
    "sns.set(rc={\"axes.facecolor\": \"white\", \"axes.grid\": False})\n",
    "\n",
    "## initialize random number generator\n",
    "rng = np.random.default_rng()"
   ]
  },
  {
   "cell_type": "markdown",
   "id": "7f8f9041-25ac-4899-a73e-70e88f9c50ff",
   "metadata": {},
   "source": [
    "# Commonly-used operations...\n",
    "...and examples using ```xarray``` & ```matplotlib```"
   ]
  },
  {
   "cell_type": "markdown",
   "id": "fa46685c-06b0-4da5-8632-b611000f34f6",
   "metadata": {},
   "source": [
    "### opening data"
   ]
  },
  {
   "cell_type": "markdown",
   "id": "596c4971-8666-4a7e-b8cd-5f4bc536a507",
   "metadata": {},
   "source": [
    "### plotting data"
   ]
  },
  {
   "cell_type": "markdown",
   "id": "377a92c4-635d-47e2-8c37-cd099b39d0ec",
   "metadata": {},
   "source": [
    "### Regridding data"
   ]
  },
  {
   "cell_type": "markdown",
   "id": "0887b4ca-fdb6-447d-ad08-6fbf224fbf7e",
   "metadata": {},
   "source": [
    "### grid-wise and grid-to-point correlation"
   ]
  },
  {
   "cell_type": "markdown",
   "id": "64620ca0-27d7-41ba-be38-7bc6a0e62678",
   "metadata": {},
   "source": [
    "### spatial average"
   ]
  },
  {
   "cell_type": "markdown",
   "id": "89ca2b89-eb50-4868-925e-b53e3adbbfcb",
   "metadata": {},
   "source": [
    "### remove seasonal cycle"
   ]
  },
  {
   "cell_type": "markdown",
   "id": "74f10ac2-6978-43b6-b1d2-9f753a918d68",
   "metadata": {},
   "source": [
    "### detrending"
   ]
  },
  {
   "cell_type": "markdown",
   "id": "1bbe7c83-4982-425e-a9ef-fc468492c5db",
   "metadata": {},
   "source": [
    "### interpolation / resampling"
   ]
  },
  {
   "cell_type": "markdown",
   "id": "b35ee643-bc9b-4492-91af-c733170d9829",
   "metadata": {},
   "source": [
    "# Example: analysis of synthetic climate"
   ]
  },
  {
   "cell_type": "markdown",
   "id": "537c726f-c8a5-4b3f-b38f-6c96f0b68839",
   "metadata": {},
   "source": [
    "#### Simulate synthetic climate"
   ]
  },
  {
   "cell_type": "code",
   "execution_count": null,
   "id": "a6885f12-a1fa-4597-bca8-9eeb8729c376",
   "metadata": {},
   "outputs": [],
   "source": [
    "## specify number of ensemble members and end year for simulation\n",
    "n_members = 50\n",
    "tf = 2006\n",
    "\n",
    "## simulation pre-industrial and warming scenarios\n",
    "T_PI = src.utils.markov_simulation(ti=850, tf=tf, n_members=n_members, trend=0)\n",
    "T_warming = src.utils.markov_simulation(ti=1850, tf=tf, n_members=n_members, trend=0.01)\n",
    "\n",
    "## for convenience, get subset of pre-industrial control which overlaps with warming\n",
    "T_PI_hist = T_PI.sel(year=T_warming.year)"
   ]
  },
  {
   "cell_type": "markdown",
   "id": "64e911ee-1cf4-4249-8f11-26e274c0629a",
   "metadata": {},
   "source": [
    "#### Plot a random sample from each simulation"
   ]
  },
  {
   "cell_type": "code",
   "execution_count": null,
   "id": "bb21e67f-dcf4-483b-913d-5ad4535d30f7",
   "metadata": {},
   "outputs": [],
   "source": [
    "# choose a random sample\n",
    "idx = rng.choice(T_PI.ensemble_member)\n",
    "\n",
    "# make the plot\n",
    "fig, ax = plt.subplots(figsize=(4, 3))\n",
    "\n",
    "ax.plot(\n",
    "    T_PI_hist.year,\n",
    "    T_PI_hist.sel(ensemble_member=idx),\n",
    "    color=\"black\",\n",
    "    label=\"P.I. control\",\n",
    ")\n",
    "ax.plot(\n",
    "    T_warming.year, T_warming.sel(ensemble_member=idx), color=\"red\", label=\"warming\"\n",
    ")\n",
    "\n",
    "## label axes\n",
    "ax.set_xlabel(\"Year\")\n",
    "ax.set_ylabel(r\"SST anomaly ($^{\\circ}C$)\")\n",
    "ax.legend(prop={\"size\": 10})\n",
    "ax.set_title(\"random ensemble member\")\n",
    "\n",
    "plt.show()"
   ]
  },
  {
   "cell_type": "markdown",
   "id": "ed0bc731-d9cd-48e6-b8a9-5c6b1ed0c771",
   "metadata": {},
   "source": [
    "#### Plot ensemble mean and spread"
   ]
  },
  {
   "cell_type": "code",
   "execution_count": null,
   "id": "f225213f-3d63-49ba-92e9-34b99ced5560",
   "metadata": {},
   "outputs": [],
   "source": [
    "def plot_ensemble_spread(ax, T, color, label=None):\n",
    "    \"\"\"plot mean and +/- 1 standard dev. of ensemble on\n",
    "    given ax object.\"\"\"\n",
    "\n",
    "    ## compute stats\n",
    "    mean = T.mean(\"ensemble_member\")\n",
    "    std = T.std(\"ensemble_member\")\n",
    "\n",
    "    ## plot mean\n",
    "    mean_plot = ax.plot(mean.year, mean, label=label, color=color)\n",
    "\n",
    "    ## plot spread\n",
    "    ax.plot(mean.year, mean + std, lw=0.5, c=mean_plot[0].get_color())\n",
    "    ax.plot(mean.year, mean - std, lw=0.5, c=mean_plot[0].get_color())\n",
    "\n",
    "    return\n",
    "\n",
    "\n",
    "## Plot ensemble stats\n",
    "fig, ax = plt.subplots(figsize=(4, 3))\n",
    "\n",
    "## plot data\n",
    "plot_ensemble_spread(ax, T_PI_hist, color=\"black\", label=\"P.I. control\")\n",
    "plot_ensemble_spread(ax, T_warming, color=\"red\", label=\"warming\")\n",
    "\n",
    "## label axes\n",
    "ax.set_xlabel(\"Year\")\n",
    "ax.set_ylabel(r\"SST anomaly ($^{\\circ}C$)\")\n",
    "ax.legend(prop={\"size\": 10})\n",
    "ax.set_title(\"Ensemble results\")\n",
    "\n",
    "plt.show()"
   ]
  },
  {
   "cell_type": "markdown",
   "id": "965a597d-76be-43bf-a704-f733f5e593af",
   "metadata": {},
   "source": [
    "#### Is the trend significant?\n",
    "- histogram for PI control (generate by computing trend for 1,000 random 40-year segments)\n",
    "- compare to trend in warming simulation over last 40 years and for period 1900-1950"
   ]
  },
  {
   "cell_type": "markdown",
   "id": "72cac783-159f-4169-8768-a222707f4ee1",
   "metadata": {},
   "source": [
    "# Now it's your turn...\n",
    "Start by picking a variable/index to analyze (e.g., SST at a specific location or averaged over a specified region), a reanalysis product from the CMIP archive, and a model from the CMIP archive.\n",
    "\n",
    "#### Model validation\n",
    "1. Load the data and make a plot.\n",
    "2. Compute the index for both the reanalysis and the model (in the historical simulation).\n",
    "3. How do the statistics compare over the overlapping period? (e.g., mean, standard deviation, seasonal cycle, power spectrum).\n",
    "\n",
    "#### Is there evidence of a climate change signal?\n",
    "1. Next, compute the index in the model's pre-industrial control simulation (__should this be a last millenium simulation?).\n",
    "2. Create a histogram of trends in the control simulation by computing the trends of randomly-sampled 40-year segments.\n",
    "3. Based on this histogram, is the model-simulated trend (from the last 40 years, in the historical simulation) significant?\n",
    "   \n",
    "#### What are the projected future changes?\n",
    "1. Next, compute the index in a future warming scenario (using the same model).\n",
    "2. How do the statistics/histogram shift in the future warming scenario?"
   ]
  }
 ],
 "metadata": {
  "kernelspec": {
   "display_name": "Python 3 (ipykernel)",
   "language": "python",
   "name": "python3"
  },
  "language_info": {
   "codemirror_mode": {
    "name": "ipython",
    "version": 3
   },
   "file_extension": ".py",
   "mimetype": "text/x-python",
   "name": "python",
   "nbconvert_exporter": "python",
   "pygments_lexer": "ipython3",
   "version": "3.12.4"
  }
 },
 "nbformat": 4,
 "nbformat_minor": 5
}
