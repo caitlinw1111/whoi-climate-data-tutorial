{
 "cells": [
  {
   "cell_type": "code",
   "execution_count": null,
   "id": "39f6f094-7e73-40df-832b-036df573b202",
   "metadata": {},
   "outputs": [],
   "source": [
    "import xarray as xr\n",
    "import numpy as np\n",
    "import pandas as pd\n",
    "from tqdm import tqdm\n",
    "import matplotlib.pyplot as plt\n",
    "from matplotlib.dates import DateFormatter\n",
    "import seaborn as sns\n",
    "import cftime"
   ]
  },
  {
   "cell_type": "markdown",
   "id": "2001715d-3fc3-4307-91e8-fb3d3842e65f",
   "metadata": {},
   "source": [
    "# ```xarray``` is your best friend"
   ]
  },
  {
   "cell_type": "markdown",
   "id": "2243c940-b0a9-422d-92e2-088010f8cede",
   "metadata": {},
   "source": [
    "### opening data"
   ]
  },
  {
   "cell_type": "markdown",
   "id": "4a55fb1b-208e-4f63-bf9c-c60715cea8bd",
   "metadata": {},
   "source": [
    "### plotting spatial data"
   ]
  },
  {
   "cell_type": "markdown",
   "id": "7f8f9041-25ac-4899-a73e-70e88f9c50ff",
   "metadata": {},
   "source": [
    "# Some commonly used operations"
   ]
  },
  {
   "cell_type": "markdown",
   "id": "377a92c4-635d-47e2-8c37-cd099b39d0ec",
   "metadata": {},
   "source": [
    "### Regridding data"
   ]
  },
  {
   "cell_type": "markdown",
   "id": "0887b4ca-fdb6-447d-ad08-6fbf224fbf7e",
   "metadata": {},
   "source": [
    "### grid-wise correlation"
   ]
  },
  {
   "cell_type": "markdown",
   "id": "f2e37057-cf09-4e1b-975a-bd00cba150a7",
   "metadata": {},
   "source": [
    "### grid-to-point correlation"
   ]
  },
  {
   "cell_type": "markdown",
   "id": "64620ca0-27d7-41ba-be38-7bc6a0e62678",
   "metadata": {},
   "source": [
    "### spatial average"
   ]
  },
  {
   "cell_type": "markdown",
   "id": "89ca2b89-eb50-4868-925e-b53e3adbbfcb",
   "metadata": {},
   "source": [
    "### remove seasonal cycle"
   ]
  },
  {
   "cell_type": "markdown",
   "id": "74f10ac2-6978-43b6-b1d2-9f753a918d68",
   "metadata": {},
   "source": [
    "### detrending"
   ]
  },
  {
   "cell_type": "markdown",
   "id": "1bbe7c83-4982-425e-a9ef-fc468492c5db",
   "metadata": {},
   "source": [
    "### resampling"
   ]
  },
  {
   "cell_type": "markdown",
   "id": "1236cd8f-4969-49d2-a1b4-a2750f9887a1",
   "metadata": {},
   "source": [
    "# Conceptual points"
   ]
  },
  {
   "cell_type": "markdown",
   "id": "819f1648-1c26-4bc1-820c-1784fdd430ba",
   "metadata": {},
   "source": [
    "Generate some random timeseries here? E.g., Hasselman's climate model.\n",
    "- Make histogram of random 40-year segment\n",
    "- plot ensemble spread\n",
    "Next: try on pre-industrial control!"
   ]
  },
  {
   "cell_type": "markdown",
   "id": "b35ee643-bc9b-4492-91af-c733170d9829",
   "metadata": {},
   "source": [
    "# PI control example\n",
    "- white-noise process vs. PI control\n",
    "- histogram of 40-year trends"
   ]
  },
  {
   "cell_type": "code",
   "execution_count": null,
   "id": "a6885f12-a1fa-4597-bca8-9eeb8729c376",
   "metadata": {},
   "outputs": [],
   "source": [
    "## set plotting style\n",
    "sns.set(rc={\"axes.facecolor\": \"white\", \"axes.grid\": False})\n",
    "\n",
    "## initialize random number generator\n",
    "rng = np.random.default_rng()\n",
    "\n",
    "\n",
    "def get_T_bar(t, trend, trend_type=\"exp\"):\n",
    "    \"\"\"Get 'background' temperature\"\"\"\n",
    "\n",
    "    ## get final and initial times\n",
    "    tf = t[-1]\n",
    "    ti = t[0]\n",
    "\n",
    "    ## get \"background\" temperature\n",
    "    if trend_type == \"exp\":\n",
    "        a = 3e-2\n",
    "        b = trend * (tf - ti) * np.exp(-a * (tf - ti))\n",
    "        T_bar = b * np.exp(a * (t - ti))\n",
    "\n",
    "    elif trend_type == \"linear\":\n",
    "        T_bar = (t - t[0]) * trend\n",
    "\n",
    "    else:\n",
    "        print(\"Not a valid trend type\")\n",
    "        T_bar = 0.0\n",
    "\n",
    "    return T_bar\n",
    "\n",
    "\n",
    "def markov_simulation(\n",
    "    ti, tf, dt=1 / 365.25, g=-0.3, n=0.3, n_members=1, trend=0, trend_type=\"exp\"\n",
    "):\n",
    "    \"\"\"Minimal version of the 'stochastic climate model' studied\n",
    "    by Hasselman et al (1976) and Frankignoul and Hasselmann (1977).\n",
    "    (See Eqn 3.6 in Frankignoul and Hasselman, 1976). The damping rate\n",
    "    used here is much lower than in the paper, for illustration purposes.\n",
    "    Args:\n",
    "        - ti: number representing initial time (units: years)\n",
    "        - tf: number representing final time (units: years)\n",
    "        - dt: timestep (units: years)\n",
    "        - g: damping rate (equivalent to lambda in the paper; units: 1/year)\n",
    "        - n: noise amplitude (units: K / year^{1/2})\n",
    "        - n_members: number of ensemble members\n",
    "        - trend: calculated increase in \"background\" T, with units of 1/year\n",
    "            (based on (T[tf]-T[ti]) / (tf-ti)\n",
    "        - trend_type: one of \"exp\" (exponential) or \"linear\"\n",
    "    \"\"\"\n",
    "\n",
    "    ## Get timesteps and dimensions for output\n",
    "    t = np.arange(ti, tf, dt)\n",
    "    nt = len(t)\n",
    "\n",
    "    ## Create empty arrays arrays to hold simulation output\n",
    "    T = np.zeros([n_members, nt])\n",
    "\n",
    "    ## get \"background\" temperature\n",
    "    T_bar = get_T_bar(t, trend, trend_type)[None, :]\n",
    "\n",
    "    for i, t_ in tqdm(enumerate(t[:-1])):\n",
    "        dW = np.sqrt(dt) * rng.normal(size=n_members)\n",
    "        dT = g * (T[:, i] - T_bar[:, i]) * dt + n * dW\n",
    "        T[:, i + 1] = T[:, i] + dT\n",
    "\n",
    "    ##  put in xarray\n",
    "    # time_idx = pd.date_range(start=f\"{ti}-01-01\", periods=nt, freq=\"1D\")\n",
    "    time_idx = xr.cftime_range(start=cftime.datetime(ti, 1, 1), periods=nt, freq=\"1D\")\n",
    "    e_member_idx = pd.Index(np.arange(1, n_members + 1), name=\"ensemble_member\")\n",
    "\n",
    "    T = xr.DataArray(\n",
    "        T,\n",
    "        dims=[\"ensemble_member\", \"time\"],\n",
    "        coords={\"ensemble_member\": e_member_idx, \"time\": time_idx},\n",
    "    )\n",
    "\n",
    "    ## resample to Annual\n",
    "    T = T.resample({\"time\": \"YS\"}).mean()\n",
    "\n",
    "    ## change time coordinate to year\n",
    "    year = T.time.dt.year.values\n",
    "    T = T.rename({\"time\": \"year\"})\n",
    "    T[\"year\"] = year\n",
    "\n",
    "    return T\n",
    "\n",
    "\n",
    "n_members = 50\n",
    "tf = 2006\n",
    "T_PI = markov_simulation(ti=850, tf=tf, n_members=n_members, trend=0)\n",
    "T_warming = markov_simulation(ti=1850, tf=tf, n_members=n_members, trend=0.01)\n",
    "\n",
    "## for convenience, get subset of pre-industrial control which overlaps with warming\n",
    "T_PI_hist = T_PI.sel(year=T_warming.year)"
   ]
  },
  {
   "cell_type": "markdown",
   "id": "fb191733-ae59-4ef1-a2f9-1b9c62cbc96d",
   "metadata": {},
   "source": [
    "## Plot ensemble means"
   ]
  },
  {
   "cell_type": "code",
   "execution_count": null,
   "id": "33be3a49-4185-42ec-974e-03793c1589c4",
   "metadata": {},
   "outputs": [],
   "source": [
    "def plot_ensemble_spread(ax, T, color, label=None):\n",
    "    \"\"\"plot mean and +/- 1 standard dev. of ensemble on\n",
    "    given ax object.\"\"\"\n",
    "\n",
    "    ## compute stats\n",
    "    mean = T.mean(\"ensemble_member\")\n",
    "    std = T.std(\"ensemble_member\")\n",
    "\n",
    "    ## plot mean\n",
    "    mean_plot = ax.plot(mean.year, mean, label=label, color=color)\n",
    "\n",
    "    ## plot spread\n",
    "    ax.plot(mean.year, mean + std, lw=0.5, c=mean_plot[0].get_color())\n",
    "    ax.plot(mean.year, mean - std, lw=0.5, c=mean_plot[0].get_color())\n",
    "\n",
    "    return\n",
    "\n",
    "\n",
    "## Plot ensemble stats\n",
    "fig, ax = plt.subplots(figsize=(4, 3))\n",
    "\n",
    "## plot data\n",
    "plot_ensemble_spread(ax, T_PI_hist, color=\"black\", label=\"warming\")\n",
    "plot_ensemble_spread(ax, T_warming, color=\"red\", label=\"P.I. control\")\n",
    "\n",
    "## label axes\n",
    "ax.set_xlabel(\"Year\")\n",
    "ax.set_ylabel(r\"SST anomaly ($^{\\circ}C$)\")\n",
    "ax.legend(prop={\"size\": 10})\n",
    "ax.set_title(\"Ensemble results\")\n",
    "\n",
    "plt.show()\n",
    "\n",
    "## plot a random sample from each\n",
    "idx = rng.choice(T_PI.ensemble_member)\n",
    "fig, ax = plt.subplots(figsize=(4, 3))\n",
    "\n",
    "ax.plot(\n",
    "    T_PI_hist.year,\n",
    "    T_PI_hist.sel(ensemble_member=idx),\n",
    "    color=\"black\",\n",
    "    label=\"P.I. control\",\n",
    ")\n",
    "ax.plot(\n",
    "    T_warming.year, T_warming.sel(ensemble_member=idx), color=\"red\", label=\"warming\"\n",
    ")\n",
    "\n",
    "## label axes\n",
    "ax.set_xlabel(\"Year\")\n",
    "ax.set_ylabel(r\"SST anomaly ($^{\\circ}C$)\")\n",
    "ax.legend(prop={\"size\": 10})\n",
    "ax.set_title(\"random ensemble member\")\n",
    "\n",
    "plt.show()"
   ]
  },
  {
   "cell_type": "markdown",
   "id": "2820ff7a-4dba-434d-b351-98d3263d8651",
   "metadata": {},
   "source": [
    "# SSP/RCP example\n",
    "- validate against reanalysis in historical period (1950-2000)\n",
    "    - e.g., $\\mu$, $\\sigma$, seasonal cycle, spectrum\n",
    "- what are future projections?"
   ]
  }
 ],
 "metadata": {
  "kernelspec": {
   "display_name": "Python 3 (ipykernel)",
   "language": "python",
   "name": "python3"
  },
  "language_info": {
   "codemirror_mode": {
    "name": "ipython",
    "version": 3
   },
   "file_extension": ".py",
   "mimetype": "text/x-python",
   "name": "python",
   "nbconvert_exporter": "python",
   "pygments_lexer": "ipython3",
   "version": "3.12.4"
  }
 },
 "nbformat": 4,
 "nbformat_minor": 5
}
