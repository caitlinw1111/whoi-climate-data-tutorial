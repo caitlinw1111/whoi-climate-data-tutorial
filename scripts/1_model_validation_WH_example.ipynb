{
 "cells": [
  {
   "cell_type": "markdown",
   "id": "48560c47-b4db-476f-83e3-a28d73ff06f7",
   "metadata": {},
   "source": [
    "# Overview\n",
    "__In this notebook, we'll:__\n",
    "- Walk through an example of model validation"
   ]
  },
  {
   "cell_type": "markdown",
   "id": "03b651d4-3447-44fc-bd6c-a11066ab8ca4",
   "metadata": {},
   "source": [
    "# Preliminaries"
   ]
  },
  {
   "cell_type": "markdown",
   "id": "e069c227-742a-49e4-bcb7-6b7dca84c72d",
   "metadata": {},
   "source": [
    "#### Specify filepath to data"
   ]
  },
  {
   "cell_type": "code",
   "execution_count": null,
   "id": "52412dc1-585d-4985-8e87-f174e363ce96",
   "metadata": {},
   "outputs": [],
   "source": [
    "## filepath for the mount\n",
    "cmip6_fp = \"/Volumes/cmip6/data\""
   ]
  },
  {
   "cell_type": "code",
   "execution_count": null,
   "id": "5e22e30b-8dc2-447c-b7b7-e0732af6b050",
   "metadata": {},
   "outputs": [],
   "source": [
    "import xarray as xr\n",
    "import numpy as np\n",
    "import pandas as pd\n",
    "from tqdm import tqdm\n",
    "import matplotlib.pyplot as plt\n",
    "import cmocean\n",
    "import seaborn as sns\n",
    "import glob\n",
    "import cftime\n",
    "import src.utils\n",
    "import cartopy.crs as ccrs\n",
    "import matplotlib.ticker as mticker\n",
    "import matplotlib.dates as mdates\n",
    "import xesmf as xe\n",
    "\n",
    "## set plotting style\n",
    "sns.set(rc={\"axes.facecolor\": \"white\", \"axes.grid\": False})\n",
    "\n",
    "## initialize random number generator\n",
    "rng = np.random.default_rng()"
   ]
  },
  {
   "cell_type": "markdown",
   "id": "7f97e4ab-199c-43be-b5fb-f142b32ffd6e",
   "metadata": {},
   "source": [
    "#### Load data"
   ]
  },
  {
   "cell_type": "code",
   "execution_count": null,
   "id": "835a2636-0cad-4571-982d-cb1a7a026c9b",
   "metadata": {},
   "outputs": [],
   "source": [
    "## function to subset longitude/latitude\n",
    "def trim_to_north_atl(x):\n",
    "    \"\"\"trims data to the North Pacific region\"\"\"\n",
    "\n",
    "    ## lon/lat boundaries for region to subset\n",
    "    lon_range = [258.5, 318.5]\n",
    "    lat_range = [60, 20]\n",
    "    # latitude=41.5, longitude=288.5\n",
    "\n",
    "    ## trim the data\n",
    "    x_trimmed = x.sel(longitude=slice(*lon_range), latitude=slice(*lat_range))\n",
    "\n",
    "    return x_trimmed"
   ]
  },
  {
   "cell_type": "markdown",
   "id": "8f7fc6c5-ee7e-450f-9a2a-6d9522ac6988",
   "metadata": {},
   "source": [
    "Load in ERA5 data"
   ]
  },
  {
   "cell_type": "code",
   "execution_count": null,
   "id": "40dc5456-fae6-4446-9e47-ab26462b1371",
   "metadata": {},
   "outputs": [],
   "source": [
    "## specify file path to ERA5 reanalysis product.\n",
    "## We'll look at surface temperature\n",
    "era5_path = f\"{cmip6_fp}/era5/reanalysis/single-levels/monthly-means/2m_temperature\"\n",
    "\n",
    "## List the first few files in the folder:\n",
    "file_list = glob.glob(f\"{era5_path}/*.nc\")\n",
    "\n",
    "## Load in the data\n",
    "T2m_era = xr.open_mfdataset(file_list, preprocess=trim_to_north_atl)[\"t2m\"]\n",
    "T2m_era = T2m_era.load();"
   ]
  },
  {
   "cell_type": "markdown",
   "id": "937fe901-6bd1-422a-b353-4d4679b6f40e",
   "metadata": {},
   "source": [
    "Load in CESM2 data"
   ]
  },
  {
   "cell_type": "code",
   "execution_count": null,
   "id": "d1d7cbb3-cd04-4c8b-b948-06c286ccd2db",
   "metadata": {},
   "outputs": [],
   "source": [
    "cesm_path = f\"{cmip6_fp}/cmip6/CMIP/NCAR/CESM2/historical/r1i1p1f1/Amon/tas/gn/1\"\n",
    "cesm_fname = \"tas_Amon_CESM2_historical_r1i1p1f1_gn_185001-201412.nc\"\n",
    "T2m_cesm = xr.open_dataset(f\"{cesm_path}/{cesm_fname}\")[\"tas\"]\n",
    "\n",
    "## rename lon/lat to match ERA5\n",
    "T2m_cesm = T2m_cesm.rename({\"lon\": \"longitude\", \"lat\": \"latitude\"})\n",
    "\n",
    "## reverse latitude coordinate, so that it matches ERA5\n",
    "latitude_reversed = T2m_cesm.latitude.values[::-1]\n",
    "T2m_cesm = T2m_cesm.reindex({\"latitude\": latitude_reversed})\n",
    "\n",
    "## trim to N. Atlantic\n",
    "T2m_cesm = trim_to_north_atl(T2m_cesm)\n",
    "\n",
    "## load to memory\n",
    "T2m_cesm.load();"
   ]
  },
  {
   "cell_type": "markdown",
   "id": "265c4500-79d5-4079-8aed-7638b087a590",
   "metadata": {},
   "source": [
    "Trim both datasets to overlapping period (1979-2014)"
   ]
  },
  {
   "cell_type": "code",
   "execution_count": null,
   "id": "821421e6-ce48-477c-9346-2b4709536599",
   "metadata": {},
   "outputs": [],
   "source": [
    "T2m_era = T2m_era.sel(time=slice(None, \"2014\"))\n",
    "T2m_cesm = T2m_cesm.sel(time=slice(\"1979\", None))\n",
    "\n",
    "## for convenience, set T2m_cesm's time to match T2m_era\n",
    "T2m_cesm[\"time\"] = T2m_era.time"
   ]
  },
  {
   "cell_type": "markdown",
   "id": "4c69c5a0-ad4c-44e0-86de-2c0cc0177191",
   "metadata": {},
   "source": [
    "#### Plot climatology"
   ]
  },
  {
   "cell_type": "code",
   "execution_count": null,
   "id": "02579272-fe1d-4c9f-ab9a-2515fac1f47b",
   "metadata": {},
   "outputs": [],
   "source": [
    "## First, a generic plot setup function\n",
    "def plot_setup(ax, lon_range, lat_range, xticks, yticks, scale):\n",
    "    \"\"\"\n",
    "    Create map background for plotting spatial data.\n",
    "    Arguments:\n",
    "        - ax: Matplotlib object containing everything in the plot.\n",
    "            (I think of it as the plot \"canvas\")\n",
    "        - lon_range/lat_range: 2-element arrays, representing plot boundaries\n",
    "        - xticks/yticks: location for lon/lat labels\n",
    "        - scale: number which controls linewidth and fontsize\n",
    "\n",
    "    Returns a modified 'ax' object.\n",
    "    \"\"\"\n",
    "\n",
    "    ## specify transparency/linewidths\n",
    "    grid_alpha = 0.1 * scale\n",
    "    grid_linewidth = 0.5 * scale\n",
    "    coastline_linewidth = 0.3 * scale\n",
    "    label_size = 8 * scale\n",
    "\n",
    "    ## crop map and plot coastlines\n",
    "    ax.set_extent([*lon_range, *lat_range], crs=ccrs.PlateCarree())\n",
    "    ax.coastlines(linewidth=coastline_linewidth)\n",
    "\n",
    "    ## plot grid\n",
    "    gl = ax.gridlines(\n",
    "        draw_labels=True,\n",
    "        linestyle=\"--\",\n",
    "        alpha=grid_alpha,\n",
    "        linewidth=grid_linewidth,\n",
    "        color=\"k\",\n",
    "        zorder=1.05,\n",
    "    )\n",
    "\n",
    "    ## add tick labels\n",
    "    gl.bottom_labels = False\n",
    "    gl.right_labels = False\n",
    "    gl.xlabel_style = {\"size\": label_size}\n",
    "    gl.ylabel_style = {\"size\": label_size}\n",
    "    gl.ylocator = mticker.FixedLocator(yticks)\n",
    "    gl.xlocator = mticker.FixedLocator(xticks)\n",
    "\n",
    "    return ax, gl\n",
    "\n",
    "\n",
    "## Next, a function to plot the North Atlantic\n",
    "def plot_setup_north_atl(ax, scale=1):\n",
    "    \"\"\"Create map background for plotting spatial data.\n",
    "    Returns modified 'ax' object.\"\"\"\n",
    "\n",
    "    ## specify range and ticklabels for plot\n",
    "    lon_range = [-102.5, -42.5]\n",
    "    lat_range = [60, 20]\n",
    "    xticks = [-90, -75, -60]\n",
    "    yticks = [25, 40, 55]\n",
    "\n",
    "    ax, gl = plot_setup(ax, lon_range, lat_range, xticks, yticks, scale)\n",
    "\n",
    "    return ax, gl"
   ]
  },
  {
   "cell_type": "code",
   "execution_count": null,
   "id": "7e8f7753-f8ac-4bf6-8b0e-e76cf2969f0e",
   "metadata": {},
   "outputs": [],
   "source": [
    "## specify colorbar levels\n",
    "levels = np.arange(266, 306, 4)\n",
    "\n",
    "## make plot\n",
    "fig = plt.figure(figsize=(8, 4))\n",
    "\n",
    "for i, (data, label) in enumerate(zip([T2m_era, T2m_cesm], [\"ERA5\", \"CESM2\"]), start=1):\n",
    "\n",
    "    ## ERA\n",
    "    ax = fig.add_subplot(1, 2, i, projection=ccrs.PlateCarree())\n",
    "    ax, gl = plot_setup_north_atl(ax)\n",
    "    ax.set_title(f\"{label}\")\n",
    "\n",
    "    ## plot data\n",
    "    plot = ax.contourf(\n",
    "        data.longitude,\n",
    "        data.latitude,\n",
    "        data.mean(\"time\"),\n",
    "        cmap=\"cmo.thermal\",\n",
    "        levels=levels,\n",
    "        extend=\"both\",\n",
    "    )\n",
    "\n",
    "plt.show()"
   ]
  },
  {
   "cell_type": "markdown",
   "id": "3e554dca-0766-4207-bcbb-2104a7dabb0b",
   "metadata": {},
   "source": [
    "#### Look at bias: difference between means\n",
    "First, regrid"
   ]
  },
  {
   "cell_type": "code",
   "execution_count": null,
   "id": "9af7dd4f-c41a-4d29-82b1-d74fd8e0b770",
   "metadata": {},
   "outputs": [],
   "source": [
    "## Regrid ERA5 and look at difference\n",
    "T2m_era_regrid = T2m_era.interp(\n",
    "    {\"latitude\": T2m_cesm.latitude, \"longitude\": T2m_cesm.longitude}\n",
    ")\n",
    "\n",
    "## get difference between means\n",
    "bias = T2m_cesm.mean(\"time\") - T2m_era_regrid.mean(\"time\")\n",
    "\n",
    "## get difference between std. devs.\n",
    "bias_std = T2m_cesm.std(\"time\") - T2m_era_regrid.std(\"time\")"
   ]
  },
  {
   "cell_type": "markdown",
   "id": "ec13ec05-b0dc-4d1c-a2ff-eda5b889331d",
   "metadata": {},
   "source": [
    "Plot mean bias"
   ]
  },
  {
   "cell_type": "code",
   "execution_count": null,
   "id": "2e345422-c421-435b-b162-1e0a35631072",
   "metadata": {},
   "outputs": [],
   "source": [
    "## make plot\n",
    "fig = plt.figure(figsize=(6, 3))\n",
    "ax = fig.add_subplot(projection=ccrs.PlateCarree())\n",
    "ax, gl = plot_setup_north_atl(ax)\n",
    "ax.set_title(r\"$\\mu$ bias (ERA5 – CESM2)\")\n",
    "\n",
    "## plot data\n",
    "plot = ax.contourf(\n",
    "    bias.longitude,\n",
    "    bias.latitude,\n",
    "    bias,\n",
    "    cmap=\"cmo.balance\",\n",
    "    levels=src.utils.make_cb_range(5, 0.5),\n",
    "    extend=\"both\",\n",
    ")\n",
    "\n",
    "cb = fig.colorbar(plot, ticks=[-5, 0, 5], label=r\"$T_{2m}$\")\n",
    "plt.show()"
   ]
  },
  {
   "cell_type": "markdown",
   "id": "70eb0167-9e5e-4bcd-8265-f5f6519c2623",
   "metadata": {},
   "source": [
    "Plot standard deviation bias"
   ]
  },
  {
   "cell_type": "code",
   "execution_count": null,
   "id": "ba7ec744-55f0-461a-8e64-aba1cb7fcc80",
   "metadata": {},
   "outputs": [],
   "source": [
    "## make plot\n",
    "fig = plt.figure(figsize=(6, 3))\n",
    "ax = fig.add_subplot(projection=ccrs.PlateCarree())\n",
    "ax, gl = plot_setup_north_atl(ax)\n",
    "ax.set_title(r\"$\\sigma$ bias (ERA5 – CESM2)\")\n",
    "\n",
    "## plot data\n",
    "plot = ax.contourf(\n",
    "    bias_std.longitude,\n",
    "    bias_std.latitude,\n",
    "    bias_std,\n",
    "    cmap=\"cmo.balance\",\n",
    "    levels=src.utils.make_cb_range(5, 0.5),\n",
    "    extend=\"both\",\n",
    ")\n",
    "\n",
    "cb = fig.colorbar(plot, ticks=[-5, 0, 5], label=r\"$T_{2m}$\")\n",
    "plt.show()"
   ]
  },
  {
   "cell_type": "markdown",
   "id": "fde1b6fd-3e98-4b0b-8f85-a09868081c17",
   "metadata": {},
   "source": [
    "## Get temperature near Woods Hole"
   ]
  },
  {
   "cell_type": "code",
   "execution_count": null,
   "id": "a24cb593-c498-42db-97e1-dec614835acd",
   "metadata": {},
   "outputs": [],
   "source": [
    "T2m_era_wh = T2m_era.interp(latitude=41.5, longitude=288.5)\n",
    "T2m_cesm_wh = T2m_cesm.interp(latitude=41.5, longitude=288.5)"
   ]
  },
  {
   "cell_type": "markdown",
   "id": "8263b931-e2d5-4ee6-a162-cd75f65e4801",
   "metadata": {},
   "source": [
    "Look at seasonal cycle and standard dev."
   ]
  },
  {
   "cell_type": "code",
   "execution_count": null,
   "id": "2ad1170f-6e94-416f-af7c-60fa93ace4b9",
   "metadata": {},
   "outputs": [],
   "source": [
    "def plot_clim(ax, x, label):\n",
    "    \"\"\"plot seasonal cycle and standard deviation for variable\"\"\"\n",
    "\n",
    "    ## compute stats\n",
    "    mean = x.groupby(\"time.month\").mean()\n",
    "    std = x.groupby(\"time.month\").std()\n",
    "\n",
    "    ## plot them\n",
    "    mean_plot = ax.plot(mean.month, mean, label=label)\n",
    "\n",
    "    ## specify style of bounds:\n",
    "    ax.fill_between(\n",
    "        mean.month, mean + std, mean - std, color=mean_plot[0].get_color(), alpha=0.2\n",
    "    )\n",
    "\n",
    "    return ax\n",
    "\n",
    "\n",
    "fig, ax = plt.subplots(figsize=(4, 3))\n",
    "ax = plot_clim(ax, T2m_era_wh, label=\"ERA5\")\n",
    "ax = plot_clim(ax, T2m_cesm_wh, label=\"CESM2\")\n",
    "ax.legend()\n",
    "ax.set_xticks([3, 6, 9, 12], labels=[\"Mar\", \"Jun\", \"Sep\", \"Dec\"])\n",
    "plt.show()"
   ]
  },
  {
   "cell_type": "markdown",
   "id": "2b755ecb-9422-499f-a613-62cc84abd1f3",
   "metadata": {},
   "source": [
    "#### Detrend, and look at histograms"
   ]
  },
  {
   "cell_type": "code",
   "execution_count": null,
   "id": "e4f7c7f6-aeeb-49e8-bda3-424944ba75ee",
   "metadata": {},
   "outputs": [],
   "source": [
    "def get_trend(data, dim=\"time\"):\n",
    "    \"\"\"Get linear trend for an xr.dataarray along specified dimension\"\"\"\n",
    "\n",
    "    ## Get coefficients for best fit\n",
    "    polyfit_coefs = data.polyfit(dim=dim, deg=1)[\"polyfit_coefficients\"]\n",
    "\n",
    "    ## Get best fit line (linear trend in this case)\n",
    "    trend = xr.polyval(data[dim], polyfit_coefs)\n",
    "\n",
    "    return trend\n",
    "\n",
    "\n",
    "def detrend(data, dim=\"time\"):\n",
    "    \"\"\"remove linear trend along specified dimension\"\"\"\n",
    "\n",
    "    return data - get_trend(data, dim=\"time\")\n",
    "\n",
    "\n",
    "def detrend_by_month(data):\n",
    "    \"\"\"function detrends data for each month separately\"\"\"\n",
    "    return data.groupby(\"time.month\").map(detrend)\n",
    "\n",
    "\n",
    "## detrend each time series by month\n",
    "T2m_era_wh_detrend = detrend_by_month(T2m_era_wh)\n",
    "T2m_cesm_wh_detrend = detrend_by_month(T2m_cesm_wh)"
   ]
  },
  {
   "cell_type": "markdown",
   "id": "142676b9-020c-41b6-a104-a70792c23c61",
   "metadata": {},
   "source": [
    "Make histogram"
   ]
  },
  {
   "cell_type": "code",
   "execution_count": null,
   "id": "988dfc0e-c889-4768-9c86-9b065b006fd7",
   "metadata": {},
   "outputs": [],
   "source": [
    "def plot_histogram_comparison(ax, samples0, samples1, label0=None, label1=None):\n",
    "    \"\"\"\n",
    "    Compute two histograms, one each for samples0 and samples1.\n",
    "    Plot the results on the specified ax object, and label histograms\n",
    "    'label0' and 'label1', respectively.\n",
    "    \"\"\"\n",
    "\n",
    "    ## First, make the histograms.\n",
    "    # specify histogram bins\n",
    "    bin_width = 0.5\n",
    "    bin_edges = np.arange(-5.25, 5.25 + bin_width, bin_width)\n",
    "\n",
    "    # compute histograms\n",
    "    hist0, _ = np.histogram(samples0, bins=bin_edges)\n",
    "    hist1, _ = np.histogram(samples1, bins=bin_edges)\n",
    "\n",
    "    ## plot histograms\n",
    "    ax.stairs(values=hist0, edges=bin_edges, color=\"k\", label=label0)\n",
    "    ax.stairs(\n",
    "        values=hist1,\n",
    "        edges=bin_edges,\n",
    "        color=\"k\",\n",
    "        label=label1,\n",
    "        fill=True,\n",
    "        alpha=0.3,\n",
    "    )\n",
    "\n",
    "    ## label plot\n",
    "    ax.set_ylabel(\"Count\")\n",
    "    ax.set_xlabel(r\"$T_{2m}$ anomaly ($^{\\circ}C$)\")\n",
    "\n",
    "    return ax"
   ]
  },
  {
   "cell_type": "code",
   "execution_count": null,
   "id": "56448ddc-0d60-4e43-a0a7-8588a4a241d4",
   "metadata": {},
   "outputs": [],
   "source": [
    "fig = plt.figure(figsize=(4, 3))\n",
    "ax = fig.add_subplot()\n",
    "ax = plot_histogram_comparison(\n",
    "    ax, T2m_era_wh_detrend, T2m_cesm_wh_detrend, label0=\"ERA5\", label1=\"CESM2\"\n",
    ")\n",
    "ax.axvline(0, ls=\":\", c=\"w\")\n",
    "ax.legend()\n",
    "plt.show()"
   ]
  },
  {
   "cell_type": "markdown",
   "id": "e70fc478-09b4-465b-91ab-4ba96b53fa72",
   "metadata": {},
   "source": [
    "#### Get JJA average"
   ]
  },
  {
   "cell_type": "code",
   "execution_count": null,
   "id": "fe8c13f5-6d5a-4877-9ed3-4355ea8ea411",
   "metadata": {},
   "outputs": [],
   "source": [
    "def get_jja_avg(data):\n",
    "    \"\"\"Get june-july-august average\"\"\"\n",
    "\n",
    "    ## get month for each timestep in data\n",
    "    month = data.time.dt.month\n",
    "\n",
    "    ## check if each timestep is in JJA\n",
    "    isin_jja = (month >= 6) & (month <= 8)\n",
    "\n",
    "    ## subset for JJA\n",
    "    data_jja = data.sel(time=isin_jja)\n",
    "\n",
    "    ## average over jja\n",
    "    data_jja_avg = data_jja.groupby(\"time.year\").mean()\n",
    "\n",
    "    return data_jja_avg\n",
    "\n",
    "\n",
    "T2m_era_wh_jja = get_jja_avg(T2m_era_wh)\n",
    "T2m_cesm_wh_jja = get_jja_avg(T2m_cesm_wh)"
   ]
  }
 ],
 "metadata": {
  "kernelspec": {
   "display_name": "Python 3 (ipykernel)",
   "language": "python",
   "name": "python3"
  },
  "language_info": {
   "codemirror_mode": {
    "name": "ipython",
    "version": 3
   },
   "file_extension": ".py",
   "mimetype": "text/x-python",
   "name": "python",
   "nbconvert_exporter": "python",
   "pygments_lexer": "ipython3",
   "version": "3.12.3"
  }
 },
 "nbformat": 4,
 "nbformat_minor": 5
}
