{
 "cells": [
  {
   "cell_type": "markdown",
   "id": "8148ec62-2b7c-4c05-9b65-b38f1f5c1d35",
   "metadata": {},
   "source": [
    "# Outline of script:"
   ]
  },
  {
   "cell_type": "markdown",
   "id": "93b35aa8-7384-4906-9d77-f463ff0cebc2",
   "metadata": {},
   "source": [
    "# Packages"
   ]
  },
  {
   "cell_type": "code",
   "execution_count": null,
   "id": "22e13d2c-e10b-4b5b-8f75-7a70dc1be3ea",
   "metadata": {},
   "outputs": [],
   "source": [
    "import xarray as xr"
   ]
  },
  {
   "cell_type": "markdown",
   "id": "07517718-7cad-49ae-a03a-2e8d9d3f0910",
   "metadata": {},
   "source": [
    "# Define constants/functions"
   ]
  },
  {
   "cell_type": "code",
   "execution_count": null,
   "id": "cb1a0834-084d-487d-b868-d1728c067148",
   "metadata": {},
   "outputs": [],
   "source": [
    "## Filepaths\n",
    "\n",
    "# # on clidex\n",
    "# era_fp = \"/vortexfs1/share/clidex/data/reanalysis/20CR/prmsl/prmsl.mon.mean.nc\"\n",
    "\n",
    "# on cmip5 server\n",
    "era_fp = \"/mnt/cmip5-data/reanalysis/era.20c/sfc/msl/moda/msl.mon.mean.nc\"\n",
    "noaa_fp = \"/mnt/cmip5-data/reanalysis/noaa.cires.20crv2c/monolevel/prmsl/monthly/prmsl.mon.mean.nc\""
   ]
  },
  {
   "cell_type": "markdown",
   "id": "cb6d2cae-bd42-4433-9666-2c9a86b8141d",
   "metadata": {},
   "source": [
    "# Load data"
   ]
  },
  {
   "cell_type": "markdown",
   "id": "c3f2aa9b-746b-4c3f-8b62-fc87265b5829",
   "metadata": {},
   "source": [
    "## Datasets used:\n",
    "- ERA-20C\n",
    "- NOAA–CIRES 20CR\n",
    "- HadSLP2\n",
    "- CESM1 LME"
   ]
  },
  {
   "cell_type": "code",
   "execution_count": null,
   "id": "cd13a4b3-64ea-4231-8918-4832be278ef7",
   "metadata": {},
   "outputs": [],
   "source": [
    "slp_era = xr.open_dataset(era_fp)#[\"prmsl\"]"
   ]
  }
 ],
 "metadata": {
  "kernelspec": {
   "display_name": "Python 3 (ipykernel)",
   "language": "python",
   "name": "python3"
  },
  "language_info": {
   "codemirror_mode": {
    "name": "ipython",
    "version": 3
   },
   "file_extension": ".py",
   "mimetype": "text/x-python",
   "name": "python",
   "nbconvert_exporter": "python",
   "pygments_lexer": "ipython3",
   "version": "3.12.4"
  }
 },
 "nbformat": 4,
 "nbformat_minor": 5
}
