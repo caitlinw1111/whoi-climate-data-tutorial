{
 "cells": [
  {
   "cell_type": "markdown",
   "id": "0d97c2fd-c240-42a5-a4fa-08a97dea755f",
   "metadata": {},
   "source": [
    "# Overview\n",
    "__In this notebook, we'll:__\n",
    "1. Look at an example of how to apply concepts from lecture to output from a \"stochastic climate model\"\n",
    "2. Apply concepts from lecture to output from CMIP data\n",
    "\n",
    "__Conceptual learning objectives:__\n",
    "- Understand difference between externally-forced and internal climate variability.\n",
    "- Understand why we need ensembles of climate simulations."
   ]
  },
  {
   "cell_type": "markdown",
   "id": "2ac98056-b074-477e-baa1-8b7b3570eec5",
   "metadata": {},
   "source": [
    "#### specify path to data"
   ]
  },
  {
   "cell_type": "code",
   "execution_count": null,
   "id": "43eb45a7-0022-4ff5-8709-8d132930700f",
   "metadata": {},
   "outputs": [],
   "source": [
    "## filepath for the mount\n",
    "cmip6_fp = \"/Volumes/cmip6/data\""
   ]
  },
  {
   "cell_type": "markdown",
   "id": "ec2aa548-d668-4e5c-8507-c31a97ce59ff",
   "metadata": {},
   "source": [
    "#### Import packages"
   ]
  },
  {
   "cell_type": "code",
   "execution_count": null,
   "id": "39f6f094-7e73-40df-832b-036df573b202",
   "metadata": {},
   "outputs": [],
   "source": [
    "import xarray as xr\n",
    "import numpy as np\n",
    "import pandas as pd\n",
    "from tqdm import tqdm\n",
    "import matplotlib.pyplot as plt\n",
    "import cmocean\n",
    "from matplotlib.dates import DateFormatter\n",
    "import seaborn as sns\n",
    "import glob\n",
    "import cftime\n",
    "import src.utils\n",
    "import cartopy.crs as ccrs\n",
    "import matplotlib.ticker as mticker\n",
    "import matplotlib.dates as mdates\n",
    "import xesmf as xe\n",
    "\n",
    "## set plotting style\n",
    "sns.set(rc={\"axes.facecolor\": \"white\", \"axes.grid\": False})\n",
    "\n",
    "## initialize random number generator\n",
    "rng = np.random.default_rng()"
   ]
  },
  {
   "cell_type": "markdown",
   "id": "537c726f-c8a5-4b3f-b38f-6c96f0b68839",
   "metadata": {},
   "source": [
    "#### Simulate synthetic climate"
   ]
  },
  {
   "cell_type": "code",
   "execution_count": null,
   "id": "a6885f12-a1fa-4597-bca8-9eeb8729c376",
   "metadata": {},
   "outputs": [],
   "source": [
    "## specify number of ensemble members and end year for simulation\n",
    "n_members = 1000\n",
    "tf = 2006\n",
    "\n",
    "## simulation pre-industrial and warming scenarios\n",
    "T_PI = src.utils.markov_simulation(ti=1850, tf=tf, n_members=n_members, trend=0)\n",
    "T_warming = src.utils.markov_simulation(\n",
    "    ti=1850, tf=tf, n_members=n_members, trend=0.005\n",
    ")\n",
    "\n",
    "## for convenience, get subset of pre-industrial control which overlaps with warming\n",
    "T_PI_hist = T_PI.sel(year=T_warming.year)"
   ]
  },
  {
   "cell_type": "markdown",
   "id": "64e911ee-1cf4-4249-8f11-26e274c0629a",
   "metadata": {},
   "source": [
    "#### Plot a random sample from each simulation"
   ]
  },
  {
   "cell_type": "code",
   "execution_count": null,
   "id": "bb21e67f-dcf4-483b-913d-5ad4535d30f7",
   "metadata": {},
   "outputs": [],
   "source": [
    "# choose a random sample\n",
    "idx = rng.choice(T_PI.ensemble_member)\n",
    "\n",
    "# make the plot\n",
    "fig, ax = plt.subplots(figsize=(4, 3))\n",
    "\n",
    "ax.plot(\n",
    "    T_PI_hist.year,\n",
    "    T_PI_hist.sel(ensemble_member=idx),\n",
    "    color=\"black\",\n",
    "    label=\"P.I. control\",\n",
    ")\n",
    "ax.plot(\n",
    "    T_warming.year, T_warming.sel(ensemble_member=idx), color=\"red\", label=\"warming\"\n",
    ")\n",
    "\n",
    "## label axes\n",
    "ax.set_xlabel(\"Year\")\n",
    "ax.set_ylabel(r\"SST anomaly ($^{\\circ}C$)\")\n",
    "ax.legend(prop={\"size\": 10})\n",
    "ax.set_title(\"random ensemble member\")\n",
    "\n",
    "plt.show()"
   ]
  },
  {
   "cell_type": "markdown",
   "id": "ed0bc731-d9cd-48e6-b8a9-5c6b1ed0c771",
   "metadata": {},
   "source": [
    "#### Plot ensemble mean and spread"
   ]
  },
  {
   "cell_type": "code",
   "execution_count": null,
   "id": "f225213f-3d63-49ba-92e9-34b99ced5560",
   "metadata": {},
   "outputs": [],
   "source": [
    "def plot_ensemble_spread(ax, T, color, label=None):\n",
    "    \"\"\"plot mean and +/- 1 standard dev. of ensemble on\n",
    "    given ax object.\"\"\"\n",
    "\n",
    "    ## compute stats\n",
    "    mean = T.mean(\"ensemble_member\")\n",
    "    std = T.std(\"ensemble_member\")\n",
    "\n",
    "    ## plot mean\n",
    "    mean_plot = ax.plot(mean.year, mean, label=label, color=color)\n",
    "\n",
    "    ## plot spread\n",
    "    ax.plot(mean.year, mean + std, lw=0.5, c=mean_plot[0].get_color())\n",
    "    ax.plot(mean.year, mean - std, lw=0.5, c=mean_plot[0].get_color())\n",
    "\n",
    "    return\n",
    "\n",
    "\n",
    "## Plot ensemble stats\n",
    "fig, ax = plt.subplots(figsize=(4, 3))\n",
    "\n",
    "## plot data\n",
    "plot_ensemble_spread(ax, T_PI_hist, color=\"black\", label=\"P.I. control\")\n",
    "plot_ensemble_spread(ax, T_warming, color=\"red\", label=\"warming\")\n",
    "\n",
    "## label axes\n",
    "ax.set_xlabel(\"Year\")\n",
    "ax.set_ylabel(r\"SST anomaly ($^{\\circ}C$)\")\n",
    "ax.legend(prop={\"size\": 10})\n",
    "ax.set_title(\"Ensemble results\")\n",
    "\n",
    "plt.show()"
   ]
  },
  {
   "cell_type": "markdown",
   "id": "965a597d-76be-43bf-a704-f733f5e593af",
   "metadata": {},
   "source": [
    "#### Is the trend significant?\n",
    "- histogram for PI control (generate by computing trend for 1,000 random 40-year segments)\n",
    "- compare to trend in warming simulation over last 40 years and for period 1900-1950"
   ]
  },
  {
   "cell_type": "code",
   "execution_count": null,
   "id": "3ce7c302-1179-4e66-90aa-c0cae6e2b628",
   "metadata": {},
   "outputs": [],
   "source": [
    "def get_slope(data, dim=\"year\"):\n",
    "    \"\"\"Function to compute linear trend of SST,\n",
    "    in deg/century.\"\"\"\n",
    "\n",
    "    ## fit linear trend to data\n",
    "    coefs = data.polyfit(dim=dim, deg=1)[\"polyfit_coefficients\"]\n",
    "\n",
    "    ## Get slope (degree=1; intercept is given by degree=0).\n",
    "    ## Note: units are in deg/year\n",
    "    slope = coefs.sel(degree=1)\n",
    "\n",
    "    ## convert units to deg/century\n",
    "    slope *= 100\n",
    "\n",
    "    return slope\n",
    "\n",
    "\n",
    "def plot_histogram_comparison(ax, samples0, samples1, label0=None, label1=None):\n",
    "    \"\"\"\n",
    "    Compute two histograms, one each for samples0 and samples1.\n",
    "    Plot the results on the specified ax object, and label histograms\n",
    "    'label0' and 'label1', respectively.\n",
    "    \"\"\"\n",
    "\n",
    "    ## First, make the histograms.\n",
    "    # specify histogram bins\n",
    "    bin_width = 0.5\n",
    "    bin_edges = np.arange(-4.75, 4.75 + bin_width, bin_width)\n",
    "\n",
    "    # compute histograms\n",
    "    hist0, _ = np.histogram(samples0, bins=bin_edges)\n",
    "    hist1, _ = np.histogram(samples1, bins=bin_edges)\n",
    "\n",
    "    ## plot histograms\n",
    "    ax.stairs(values=hist0, edges=bin_edges, color=\"k\", label=label0)\n",
    "    ax.stairs(\n",
    "        values=hist1,\n",
    "        edges=bin_edges,\n",
    "        color=\"r\",\n",
    "        label=label1,\n",
    "        fill=True,\n",
    "        alpha=0.3,\n",
    "    )\n",
    "\n",
    "    ## label plot\n",
    "    ax.set_ylabel(\"Count\")\n",
    "    ax.set_xlabel(r\"Warming trend ($^{\\circ}C~/~$century)\")\n",
    "\n",
    "    return ax\n",
    "\n",
    "\n",
    "def plot_histogram_comparison_wrapper(ax, years):\n",
    "    \"\"\"wrapper function to plot histogram comparison for given subset of years\"\"\"\n",
    "\n",
    "    ## Get trends for each ensemble members\n",
    "    T_PI_subset = T_PI.sel(year=years)\n",
    "    T_warming_subset = T_warming.sel(year=years)\n",
    "    trends_PI = get_slope(T_PI_subset)\n",
    "    trends_warming = get_slope(T_warming_subset)\n",
    "\n",
    "    ## make the plot\n",
    "    ax = plot_histogram_comparison(\n",
    "        ax,\n",
    "        samples0=trends_PI,\n",
    "        samples1=trends_warming,\n",
    "        label0=\"PI control\",\n",
    "        label1=\"warming\",\n",
    "    )\n",
    "\n",
    "    ## plot ensemble means\n",
    "    T_PI_mean = T_PI_subset.mean(\"ensemble_member\")\n",
    "    T_warming_mean = T_warming_subset.mean(\"ensemble_member\")\n",
    "    ax.axvline(get_slope(T_PI_mean), ls=\"--\", c=\"k\", lw=1)\n",
    "    ax.axvline(get_slope(T_warming_mean), ls=\"--\", c=\"r\", lw=1)\n",
    "\n",
    "    return ax"
   ]
  },
  {
   "cell_type": "code",
   "execution_count": null,
   "id": "c647d3f3-a9bc-4020-b421-80ee7543cfd8",
   "metadata": {},
   "outputs": [],
   "source": [
    "## Make plot\n",
    "fig, axs = plt.subplots(1, 2, figsize=(8, 3))\n",
    "\n",
    "## Plot data for each subset of years\n",
    "axs[0] = plot_histogram_comparison_wrapper(axs[0], years=np.arange(1850, 1890))\n",
    "axs[1] = plot_histogram_comparison_wrapper(axs[1], years=np.arange(1966, 2006))\n",
    "\n",
    "## label plot\n",
    "axs[0].set_title(\"First 40 years\")\n",
    "axs[1].set_title(\"Last 40 years\")\n",
    "axs[0].legend(prop={\"size\": 10})\n",
    "axs[1].set_yticks([])\n",
    "axs[1].set_ylabel(None)\n",
    "axs[1].set_ylim(axs[0].get_ylim())\n",
    "\n",
    "plt.show()"
   ]
  },
  {
   "cell_type": "markdown",
   "id": "72cac783-159f-4169-8768-a222707f4ee1",
   "metadata": {},
   "source": [
    "# Now it's your turn...\n",
    "Start by picking a variable/index to analyze (e.g., SST at a specific location or averaged over a specified region), a reanalysis product from the CMIP archive, and a model from the CMIP archive.\n",
    "\n",
    "#### Model validation\n",
    "1. Load the data and make a plot.\n",
    "2. Compute the index for both the reanalysis and the model (in the historical simulation).\n",
    "3. How do the statistics compare over the overlapping period? (e.g., mean, standard deviation, seasonal cycle, power spectrum).\n",
    "\n",
    "#### Is there evidence of a climate change signal?\n",
    "1. Next, compute the index in the model's pre-industrial control simulation (__should this be a last millenium simulation?).\n",
    "2. Create a histogram of trends in the control simulation by computing the trends of randomly-sampled 40-year segments.\n",
    "3. Based on this histogram, is the model-simulated trend (from the last 40 years, in the historical simulation) significant?\n",
    "   \n",
    "#### What are the projected future changes?\n",
    "1. Next, compute the index in a future warming scenario (using the same model).\n",
    "2. How do the statistics/histogram shift in the future warming scenario?"
   ]
  }
 ],
 "metadata": {
  "kernelspec": {
   "display_name": "Python 3 (ipykernel)",
   "language": "python",
   "name": "python3"
  },
  "language_info": {
   "codemirror_mode": {
    "name": "ipython",
    "version": 3
   },
   "file_extension": ".py",
   "mimetype": "text/x-python",
   "name": "python",
   "nbconvert_exporter": "python",
   "pygments_lexer": "ipython3",
   "version": "3.12.3"
  }
 },
 "nbformat": 4,
 "nbformat_minor": 5
}
