{
 "cells": [
  {
   "cell_type": "markdown",
   "id": "48560c47-b4db-476f-83e3-a28d73ff06f7",
   "metadata": {},
   "source": [
    "# Overview\n",
    "__In this notebook, we'll:__\n",
    "- Walk through an example of model validation"
   ]
  },
  {
   "cell_type": "markdown",
   "id": "03b651d4-3447-44fc-bd6c-a11066ab8ca4",
   "metadata": {},
   "source": [
    "# Preliminaries"
   ]
  },
  {
   "cell_type": "markdown",
   "id": "e069c227-742a-49e4-bcb7-6b7dca84c72d",
   "metadata": {},
   "source": [
    "#### Specify filepath to data"
   ]
  },
  {
   "cell_type": "code",
   "execution_count": null,
   "id": "52412dc1-585d-4985-8e87-f174e363ce96",
   "metadata": {},
   "outputs": [],
   "source": [
    "## filepath for the mount\n",
    "cmip6_fp = \"/Volumes/cmip6/data\""
   ]
  },
  {
   "cell_type": "code",
   "execution_count": null,
   "id": "5e22e30b-8dc2-447c-b7b7-e0732af6b050",
   "metadata": {},
   "outputs": [],
   "source": [
    "import xarray as xr\n",
    "import numpy as np\n",
    "import pandas as pd\n",
    "from tqdm import tqdm\n",
    "import matplotlib.pyplot as plt\n",
    "import cmocean\n",
    "import seaborn as sns\n",
    "import glob\n",
    "import cftime\n",
    "import src.utils\n",
    "import cartopy.crs as ccrs\n",
    "import matplotlib.ticker as mticker\n",
    "import matplotlib.dates as mdates\n",
    "import xesmf as xe\n",
    "\n",
    "## set plotting style\n",
    "sns.set(rc={\"axes.facecolor\": \"white\", \"axes.grid\": False})\n",
    "\n",
    "## initialize random number generator\n",
    "rng = np.random.default_rng()"
   ]
  },
  {
   "cell_type": "markdown",
   "id": "73c3da6b-1770-4e4a-8b89-d7aef8a62ee7",
   "metadata": {},
   "source": [
    "#### Load in ORAS5 data"
   ]
  },
  {
   "cell_type": "code",
   "execution_count": null,
   "id": "e010879a-9c0e-4b6a-b64c-3f1400dc12af",
   "metadata": {},
   "outputs": [],
   "source": [
    "fp = \"/Volumes/cmip6/data/ocean_reanalysis/ORAS5/oras5/monthly/global-reanalysis-phy-001-031\"\n",
    "zos_oras = xr.open_mfdataset(f\"{fp}/global-reanalysis-phy-001-031-grepv2-monthly_*.nc\")\n",
    "zos_oras = zos_oras[\"zos_oras\"]\n",
    "zos_oras.load();"
   ]
  },
  {
   "cell_type": "markdown",
   "id": "4581b69e-dc1d-466a-a1ad-958ced3ed471",
   "metadata": {},
   "source": [
    "#### Load in CESM data"
   ]
  },
  {
   "cell_type": "code",
   "execution_count": null,
   "id": "fea646bf-55a7-49b6-bae9-2e416255db21",
   "metadata": {},
   "outputs": [],
   "source": [
    "fp = \"/Volumes/cmip6/data/cmip6/CMIP/NCAR/CESM2/historical/r1i1p1f1/Omon/zos/gn/1\"\n",
    "zos_cesm = xr.open_dataset(\n",
    "    f\"{fp}/zos_Omon_CESM2_historical_r1i1p1f1_gn_185001-201412.nc\"\n",
    ")\n",
    "zos_cesm = zos_cesm[\"zos\"]\n",
    "zos_cesm = zos_cesm.load();"
   ]
  },
  {
   "cell_type": "markdown",
   "id": "41ba98b0-3028-4db5-9a7e-8e507bc565d7",
   "metadata": {},
   "source": [
    "#### Regrid CESM to match ORAS5"
   ]
  },
  {
   "cell_type": "code",
   "execution_count": null,
   "id": "9614bac6-ecb2-45c6-a530-7d962bede1a1",
   "metadata": {},
   "outputs": [],
   "source": [
    "regridder = xe.Regridder(\n",
    "    ds_in=zos_cesm, ds_out=zos_oras, method=\"bilinear\", periodic=False\n",
    ")\n",
    "zos_cesm = regridder(zos_cesm)"
   ]
  },
  {
   "cell_type": "markdown",
   "id": "b2e62cb7-e3e1-4141-bd49-7926b4ae288a",
   "metadata": {},
   "source": [
    "#### Plot results"
   ]
  },
  {
   "cell_type": "code",
   "execution_count": null,
   "id": "4721702e-d55e-4365-86d5-94661193a9d3",
   "metadata": {},
   "outputs": [],
   "source": [
    "def plot_setup(ax, lon_range, lat_range, xticks, yticks, scale):\n",
    "    \"\"\"\n",
    "    Create map background for plotting spatial data.\n",
    "    Arguments:\n",
    "        - ax: Matplotlib object containing everything in the plot.\n",
    "            (I think of it as the plot \"canvas\")\n",
    "        - lon_range/lat_range: 2-element arrays, representing plot boundaries\n",
    "        - xticks/yticks: location for lon/lat labels\n",
    "        - scale: number which controls linewidth and fontsize\n",
    "\n",
    "    Returns a modified 'ax' object.\n",
    "    \"\"\"\n",
    "\n",
    "    ## specify transparency/linewidths\n",
    "    grid_alpha = 0.1 * scale\n",
    "    grid_linewidth = 0.5 * scale\n",
    "    coastline_linewidth = 0.3 * scale\n",
    "    label_size = 8 * scale\n",
    "\n",
    "    ## crop map and plot coastlines\n",
    "    ax.set_extent([*lon_range, *lat_range], crs=ccrs.PlateCarree())\n",
    "    ax.coastlines(linewidth=coastline_linewidth)\n",
    "\n",
    "    ## plot grid\n",
    "    gl = ax.gridlines(\n",
    "        draw_labels=True,\n",
    "        linestyle=\"--\",\n",
    "        alpha=grid_alpha,\n",
    "        linewidth=grid_linewidth,\n",
    "        color=\"k\",\n",
    "        zorder=1.05,\n",
    "    )\n",
    "\n",
    "    ## add tick labels\n",
    "    gl.bottom_labels = False\n",
    "    gl.right_labels = False\n",
    "    gl.xlabel_style = {\"size\": label_size}\n",
    "    gl.ylabel_style = {\"size\": label_size}\n",
    "    gl.ylocator = mticker.FixedLocator(yticks)\n",
    "    gl.xlocator = mticker.FixedLocator(xticks)\n",
    "\n",
    "    return ax, gl\n",
    "\n",
    "\n",
    "## Next, a function to plot the North Atlantic\n",
    "def plot_setup_north_atl(ax, scale=1):\n",
    "    \"\"\"Create map background for plotting spatial data.\n",
    "    Returns modified 'ax' object.\"\"\"\n",
    "\n",
    "    ## specify range and ticklabels for plot\n",
    "    lon_range = [-80, -30]\n",
    "    lat_range = [30, 50]\n",
    "    xticks = [-70, -55, -40]\n",
    "    yticks = [35, 45]\n",
    "\n",
    "    ax, gl = plot_setup(ax, lon_range, lat_range, xticks, yticks, scale)\n",
    "\n",
    "    return ax, gl"
   ]
  },
  {
   "cell_type": "code",
   "execution_count": null,
   "id": "4aabae41-6af5-4780-81d7-932838c92419",
   "metadata": {},
   "outputs": [],
   "source": [
    "fig = plt.figure(figsize=(6, 6))\n",
    "ax = fig.add_subplot(2, 1, 1, projection=ccrs.PlateCarree())\n",
    "\n",
    "## ORAS5\n",
    "ax, gl = plot_setup_north_atl(ax)\n",
    "ax.contourf(\n",
    "    zos_oras.longitude,\n",
    "    zos_oras.latitude,\n",
    "    zos_oras.mean(\"time\"),\n",
    "    cmap=\"cmo.balance\",\n",
    "    levels=src.utils.make_cb_range(1, 0.1),\n",
    ")\n",
    "\n",
    "## CESM\n",
    "ax = fig.add_subplot(2, 1, 2, projection=ccrs.PlateCarree())\n",
    "ax, gl = plot_setup_north_atl(ax)\n",
    "ax.contourf(\n",
    "    zos_cesm.longitude,\n",
    "    zos_cesm.latitude,\n",
    "    zos_cesm.mean(\"time\"),\n",
    "    cmap=\"cmo.balance\",\n",
    "    levels=src.utils.make_cb_range(1, 0.1),\n",
    ")\n",
    "\n",
    "plt.show()"
   ]
  },
  {
   "cell_type": "code",
   "execution_count": null,
   "id": "cc23c3a4-f9a6-47e8-af61-0ca5b5bcc6d5",
   "metadata": {},
   "outputs": [],
   "source": [
    "def grad(f):\n",
    "    \"\"\"compute gradient of data called 'f'.\n",
    "    assumes latitude and longitude are both increasing\"\"\"\n",
    "\n",
    "    ## get change in lon/lat (assume constant grid)\n",
    "    theta = np.deg2rad(f.longitude)\n",
    "    phi = np.deg2rad(f.latitude)\n",
    "    dtheta = theta.values[1] - theta.values[0]\n",
    "    dphi = phi.values[1] - phi.values[0]\n",
    "\n",
    "    ## get change in dx/dy\n",
    "    R = 6.37e6 # radius of earth in meters\n",
    "    dy = R * dphi\n",
    "    dx = R * np.cos(phi) * dtheta\n",
    "\n",
    "    ## get differences\n",
    "    f_plus = f.isel(longitude=slice(1,None))\n",
    "    f_minus = f.isel(longitude=slice(None,-1))\n",
    "    df_dy = xr.zeros_like(f_minus)\n",
    "    df = f_plus.values - f_minus.values\n",
    "    df_dy.values = df / dy\n",
    "\n",
    "    f_plus = f.isel(latitude=slice(1,None))\n",
    "    f_minus = f.isel(latitude=slice(None,-1))\n",
    "    df = xr.zeros_like(f_minus)\n",
    "    df.values = f_plus.values - f_minus.values\n",
    "    df_dx = df / dx\n",
    "    \n",
    "    return df_dx, df_dy\n",
    "\n",
    "def grad_mag(f):\n",
    "    \"\"\"get magnitude of gradient\"\"\"\n",
    "    \n",
    "    # get gradient\n",
    "    df_dx, df_dy = grad(f)\n",
    "\n",
    "    return np.sqrt(df_dx**2 + df_dy**2)\n",
    "    "
   ]
  },
  {
   "cell_type": "code",
   "execution_count": null,
   "id": "202637fe-a5eb-4fde-aeee-cccaa00edd96",
   "metadata": {},
   "outputs": [],
   "source": [
    "## compute magnitude of gradient\n",
    "mag_oras = grad_mag(zos_oras)#.sel(longitude=slice(-80,None), latitude=slice(None,45))\n",
    "mag_cesm = grad_mag(zos_cesm)#.sel(longitude=slice(-80,None), latitude=slice(None,45))\n",
    "\n",
    "## smooth gradient gradient before predicting posn\n",
    "n = 3\n",
    "mag_oras = mag_oras.rolling({\"latitude\":n,\"longitude\":n}).mean().sel(longitude=slice(-80,None), latitude=slice(None,45))\n",
    "mag_cesm = mag_cesm.rolling({\"latitude\":n,\"longitude\":n}).mean().sel(longitude=slice(-80,None), latitude=slice(None,45))\n",
    "\n",
    "## get gulf stream y_posn\n",
    "y_posn_oras = mag_oras.latitude.isel(latitude=mag_oras.argmax(\"latitude\"))\n",
    "y_posn_cesm = mag_cesm.latitude.isel(latitude=mag_cesm.argmax(\"latitude\"))"
   ]
  },
  {
   "cell_type": "code",
   "execution_count": null,
   "id": "59d07fd4-c0ce-4d81-aa3f-96b05681b4cf",
   "metadata": {},
   "outputs": [],
   "source": [
    "vmax = [1e-5,5e-6]\n",
    "t_idx = 9\n",
    "\n",
    "fig = plt.figure()\n",
    "\n",
    "for i, (mag, y_posn, vmax_) in enumerate(zip([mag_oras, mag_cesm],[y_posn_oras,y_posn_cesm],vmax), start=1):\n",
    "\n",
    "    ax = fig.add_subplot(2,1,i, projection=ccrs.PlateCarree())\n",
    "    ax, gl = plot_setup_north_atl(ax)\n",
    "    ax.contourf(\n",
    "        mag.longitude,\n",
    "        mag.latitude,\n",
    "        mag.isel(time=t_idx),\n",
    "        # mag.mean(\"time\"),\n",
    "        cmap=\"cmo.amp\",\n",
    "        levels=np.linspace(0,vmax_,11),\n",
    "        extend=\"both\",\n",
    "    )\n",
    "\n",
    "    ax.plot(y_posn.longitude, y_posn.isel(time=t_idx))\n",
    "    # ax.plot(y_posn.longitude, y_posn.mean(\"time\"), c=\"w\")\n",
    "\n",
    "    ax.axvline(-55)\n",
    "    ax.axhline(40, c=\"w\")\n",
    "    \n",
    "    # break\n",
    "plt.show()"
   ]
  },
  {
   "cell_type": "code",
   "execution_count": null,
   "id": "45dfdfa2-840f-401a-b55c-f67be38cf082",
   "metadata": {},
   "outputs": [],
   "source": [
    "plt.plot(y_posn_oras.sel(longitude=-55))\n",
    "plt.plot(y_posn_oras.mean(\"longitude\"))"
   ]
  },
  {
   "cell_type": "code",
   "execution_count": null,
   "id": "fb637aa0-3a55-4468-808d-1006018035ef",
   "metadata": {},
   "outputs": [],
   "source": [
    "y_posn_cesm.sel(longitude=-55)"
   ]
  },
  {
   "cell_type": "code",
   "execution_count": null,
   "id": "ca2781ef-c739-4a7f-8284-79c542d5f87a",
   "metadata": {},
   "outputs": [],
   "source": [
    "# plt.plot(y_posn_cesm.sel(longitude=-55))\n",
    "plt.plot(y_posn_cesm.sel(longitude=slice(None,-50)).mean(\"longitude\"))"
   ]
  },
  {
   "cell_type": "markdown",
   "id": "e3c662c5-092a-4a28-a441-2db4770c26fe",
   "metadata": {},
   "source": [
    "# Old stuff"
   ]
  },
  {
   "cell_type": "code",
   "execution_count": null,
   "id": "e0cb0cc9-d221-43e3-b2b2-9aaba9a63281",
   "metadata": {},
   "outputs": [],
   "source": [
    "fp = \"/Volumes/cmip6/data/cmip6/CMIP/NCAR/CESM2/historical/r1i1p1f1/Omon/zos/gn/1\"\n",
    "zos = xr.open_dataset(f\"{fp}/zos_Omon_CESM2_historical_r1i1p1f1_gn_185001-201412.nc\")\n",
    "zos = zos[\"zos\"].compute()\n",
    "\n",
    "\n",
    "def trim_to_natl(data):\n",
    "\n",
    "    ## Get mask for north Atlantic\n",
    "    lon_range = [280, 340]\n",
    "    lat_range = [30, 50]\n",
    "    isin_range = lambda x, range_: (x >= range_[0]) & (x <= range_[1])\n",
    "\n",
    "    ## check if in lon/lat range\n",
    "    in_lon_range = isin_range(x=data.lon.compute(), range_=lon_range)\n",
    "    in_lat_range = isin_range(x=data.lat.compute(), range_=lat_range)\n",
    "\n",
    "    ## mask for north atlantic\n",
    "    in_north_atl = in_lon_range & in_lat_range\n",
    "\n",
    "    ## keep rows/cols with at least one valid value\n",
    "    lat_idx = in_north_atl.any(\"nlon\")\n",
    "    lon_idx = in_north_atl.any(\"nlat\")\n",
    "\n",
    "    ## subset data\n",
    "    data_trim = data.isel(nlon=lon_idx, nlat=lat_idx)\n",
    "\n",
    "    return data_trim"
   ]
  },
  {
   "cell_type": "code",
   "execution_count": null,
   "id": "31e21e68-08c5-4465-8155-bcb860873fa2",
   "metadata": {},
   "outputs": [],
   "source": [
    "# lon = np.arange(280,330)\n",
    "# lat = np.arange(30,50)\n",
    "# grid = xr.DataArray(data=None,coords={\"lon\":lon,\"lat\":lat},dims=[\"lon\",\"lat\"])\n",
    "# import xesmf as xe\n",
    "regridder = xe.Regridder(\n",
    "    ds_in=zos_oras, ds_out=zos_clim, method=\"bilinear\", periodic=False\n",
    ")\n",
    "\n",
    "zos_clim_regrid = regridder(zos_oras)\n",
    "\n",
    "fig = plt.figure(figsize=(6, 6))\n",
    "ax = fig.add_subplot(2, 1, 1, projection=ccrs.PlateCarree())\n",
    "ax, gl = plot_setup_north_atl(ax)\n",
    "ax.pcolormesh(zos_clim.lon, zos_clim.lat, zos_clim, vmax=2, vmin=-2, cmap=\"cmo.balance\")\n",
    "\n",
    "ax = fig.add_subplot(2, 1, 2, projection=ccrs.PlateCarree())\n",
    "ax, gl = plot_setup_north_atl(ax)\n",
    "ax.pcolormesh(\n",
    "    zos_clim_regrid.lon,\n",
    "    zos_clim_regrid.lat,\n",
    "    zos_clim_regrid.mean(\"time\"),\n",
    "    cmap=\"cmo.balance\",\n",
    "    vmax=2,\n",
    "    vmin=-2,\n",
    ")\n",
    "plt.show()"
   ]
  },
  {
   "cell_type": "code",
   "execution_count": null,
   "id": "558db1c0-63f2-46bf-8a2b-ff0478119dda",
   "metadata": {},
   "outputs": [],
   "source": [
    "# lon = np.arange(280,330)\n",
    "# lat = np.arange(30,50)\n",
    "# grid = xr.DataArray(data=None,coords={\"lon\":lon,\"lat\":lat},dims=[\"lon\",\"lat\"])\n",
    "# import xesmf as xe\n",
    "regridder = xe.Regridder(\n",
    "    ds_in=zos_clim, ds_out=zos_oras, method=\"bilinear\", periodic=False\n",
    ")\n",
    "regrid = regridder(zos)\n",
    "\n",
    "fig = plt.figure(figsize=(6, 6))\n",
    "ax = fig.add_subplot(2, 1, 1, projection=ccrs.PlateCarree())\n",
    "ax, gl = plot_setup_north_atl(ax)\n",
    "ax.contourf(\n",
    "    regrid.longitude,\n",
    "    regrid.latitude,\n",
    "    regrid.isel(time=-3),\n",
    "    cmap=\"cmo.balance\",\n",
    "    levels=src.utils.make_cb_range(2, 0.2),\n",
    ")\n",
    "\n",
    "# ax = fig.add_subplot(2,1,2, projection=ccrs.PlateCarree())\n",
    "# ax, gl = plot_setup_north_atl(ax)\n",
    "# ax.contourf(zos_oras.lon, zos_oras.lat, zos_oras.mean(\"time\"), cmap=\"cmo.balance\",\n",
    "#            vmax=2, vmin=-2)\n",
    "# plt.show()"
   ]
  },
  {
   "cell_type": "markdown",
   "id": "8083d82e-a34e-47b4-b970-67e0dba7de02",
   "metadata": {},
   "source": [
    "# Old"
   ]
  },
  {
   "cell_type": "markdown",
   "id": "974bbdcd-2940-48ac-b4d4-0b0ace5f80b7",
   "metadata": {},
   "source": [
    "CESM velocity data"
   ]
  },
  {
   "cell_type": "code",
   "execution_count": null,
   "id": "b85159ea-61f6-4b0d-a2ad-f3e3db204266",
   "metadata": {},
   "outputs": [],
   "source": [
    "## Load CESM data\n",
    "cesm_fp = \"/Volumes/cmip6/data/cmip6/CMIP/NCAR/CESM2/historical/r1i1p1f1/Omon/\"\n",
    "cesm_fp_u = f\"{cesm_fp}/uo/gn/1/uo_Omon_CESM2_historical_r1i1p1f1_gn_185001-201412.nc\"\n",
    "cesm_fp_v = f\"{cesm_fp}/vo/gn/1/vo_Omon_CESM2_historical_r1i1p1f1_gn_185001-201412.nc\"\n",
    "u = xr.open_mfdataset([cesm_fp_u, cesm_fp_v])\n",
    "\n",
    "## select level closest to surface\n",
    "u = u.isel(lev=0, drop=True)  # .compute()\n",
    "\n",
    "## Get mask for north Atlantic\n",
    "lon_range = [280, 340]\n",
    "lat_range = [30, 50]\n",
    "isin_range = lambda x, range_: (x >= range_[0]) & (x <= range_[1])\n",
    "\n",
    "## check if in lon/lat range\n",
    "in_lon_range = isin_range(x=u.lon.compute(), range_=lon_range)\n",
    "in_lat_range = isin_range(x=u.lat.compute(), range_=lat_range)\n",
    "\n",
    "## mask for north atlantic\n",
    "in_north_atl = in_lon_range & in_lat_range\n",
    "\n",
    "## keep rows/cols with at least one valid value\n",
    "lat_idx = in_north_atl.any(\"nlon\")\n",
    "lon_idx = in_north_atl.any(\"nlat\")\n",
    "\n",
    "## subset data\n",
    "u = u.isel(nlon=lon_idx, nlat=lat_idx)"
   ]
  },
  {
   "cell_type": "code",
   "execution_count": null,
   "id": "efb0d859-888c-40dc-b34b-e3ea6063e620",
   "metadata": {},
   "outputs": [],
   "source": [
    "u.compute()"
   ]
  }
 ],
 "metadata": {
  "kernelspec": {
   "display_name": "Python 3 (ipykernel)",
   "language": "python",
   "name": "python3"
  },
  "language_info": {
   "codemirror_mode": {
    "name": "ipython",
    "version": 3
   },
   "file_extension": ".py",
   "mimetype": "text/x-python",
   "name": "python",
   "nbconvert_exporter": "python",
   "pygments_lexer": "ipython3",
   "version": "3.12.3"
  }
 },
 "nbformat": 4,
 "nbformat_minor": 5
}
