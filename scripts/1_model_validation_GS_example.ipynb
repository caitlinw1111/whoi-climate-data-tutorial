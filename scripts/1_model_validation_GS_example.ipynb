{
 "cells": [
  {
   "cell_type": "markdown",
   "id": "48560c47-b4db-476f-83e3-a28d73ff06f7",
   "metadata": {},
   "source": [
    "# Overview\n",
    "__In this notebook, we'll:__\n",
    "- Walk through an example of model validation"
   ]
  },
  {
   "cell_type": "markdown",
   "id": "03b651d4-3447-44fc-bd6c-a11066ab8ca4",
   "metadata": {},
   "source": [
    "# Preliminaries"
   ]
  },
  {
   "cell_type": "markdown",
   "id": "e069c227-742a-49e4-bcb7-6b7dca84c72d",
   "metadata": {},
   "source": [
    "#### Specify filepath to data"
   ]
  },
  {
   "cell_type": "code",
   "execution_count": null,
   "id": "52412dc1-585d-4985-8e87-f174e363ce96",
   "metadata": {},
   "outputs": [],
   "source": [
    "## filepath for the mount\n",
    "cmip6_fp = \"/Volumes/cmip6/data\""
   ]
  },
  {
   "cell_type": "code",
   "execution_count": null,
   "id": "5e22e30b-8dc2-447c-b7b7-e0732af6b050",
   "metadata": {},
   "outputs": [],
   "source": [
    "import xarray as xr\n",
    "import numpy as np\n",
    "import pandas as pd\n",
    "from tqdm import tqdm\n",
    "import matplotlib.pyplot as plt\n",
    "import cmocean\n",
    "import seaborn as sns\n",
    "import glob\n",
    "import cftime\n",
    "import src.utils\n",
    "import cartopy.crs as ccrs\n",
    "import matplotlib.ticker as mticker\n",
    "import matplotlib.dates as mdates\n",
    "import xesmf as xe\n",
    "\n",
    "## set plotting style\n",
    "sns.set(rc={\"axes.facecolor\": \"white\", \"axes.grid\": False})\n",
    "\n",
    "## initialize random number generator\n",
    "rng = np.random.default_rng()"
   ]
  },
  {
   "cell_type": "markdown",
   "id": "73c3da6b-1770-4e4a-8b89-d7aef8a62ee7",
   "metadata": {},
   "source": [
    "#### Load in ORAS5 data"
   ]
  },
  {
   "cell_type": "code",
   "execution_count": null,
   "id": "e010879a-9c0e-4b6a-b64c-3f1400dc12af",
   "metadata": {},
   "outputs": [],
   "source": [
    "fp = \"/Volumes/cmip6/data/ocean_reanalysis/ORAS5/oras5/monthly/global-reanalysis-phy-001-031\"\n",
    "zos_oras = xr.open_mfdataset(f\"{fp}/global-reanalysis-phy-001-031-grepv2-monthly_*.nc\")\n",
    "zos_oras = zos_oras[\"zos_oras\"]\n",
    "zos_oras.load();"
   ]
  },
  {
   "cell_type": "markdown",
   "id": "4581b69e-dc1d-466a-a1ad-958ced3ed471",
   "metadata": {},
   "source": [
    "#### Load in CESM data"
   ]
  },
  {
   "cell_type": "code",
   "execution_count": null,
   "id": "fea646bf-55a7-49b6-bae9-2e416255db21",
   "metadata": {},
   "outputs": [],
   "source": [
    "fp = \"/Volumes/cmip6/data/cmip6/CMIP/NCAR/CESM2/historical/r1i1p1f1/Omon/zos/gn/1\"\n",
    "zos_cesm = xr.open_dataset(\n",
    "    f\"{fp}/zos_Omon_CESM2_historical_r1i1p1f1_gn_185001-201412.nc\"\n",
    ")\n",
    "zos_cesm = zos_cesm[\"zos\"]\n",
    "zos_cesm = zos_cesm.load();"
   ]
  },
  {
   "cell_type": "markdown",
   "id": "41ba98b0-3028-4db5-9a7e-8e507bc565d7",
   "metadata": {},
   "source": [
    "#### Regrid CESM to match ORAS5"
   ]
  },
  {
   "cell_type": "code",
   "execution_count": null,
   "id": "9614bac6-ecb2-45c6-a530-7d962bede1a1",
   "metadata": {},
   "outputs": [],
   "source": [
    "regridder = xe.Regridder(\n",
    "    ds_in=zos_cesm, ds_out=zos_oras, method=\"bilinear\", periodic=False\n",
    ")\n",
    "zos_cesm = regridder(zos_cesm)"
   ]
  },
  {
   "cell_type": "markdown",
   "id": "b2e62cb7-e3e1-4141-bd49-7926b4ae288a",
   "metadata": {},
   "source": [
    "#### time mean SSH"
   ]
  },
  {
   "cell_type": "code",
   "execution_count": null,
   "id": "4721702e-d55e-4365-86d5-94661193a9d3",
   "metadata": {},
   "outputs": [],
   "source": [
    "def plot_setup(ax, lon_range, lat_range, xticks, yticks, scale):\n",
    "    \"\"\"\n",
    "    Create map background for plotting spatial data.\n",
    "    Arguments:\n",
    "        - ax: Matplotlib object containing everything in the plot.\n",
    "            (I think of it as the plot \"canvas\")\n",
    "        - lon_range/lat_range: 2-element arrays, representing plot boundaries\n",
    "        - xticks/yticks: location for lon/lat labels\n",
    "        - scale: number which controls linewidth and fontsize\n",
    "\n",
    "    Returns a modified 'ax' object.\n",
    "    \"\"\"\n",
    "\n",
    "    ## specify transparency/linewidths\n",
    "    grid_alpha = 0.1 * scale\n",
    "    grid_linewidth = 0.5 * scale\n",
    "    coastline_linewidth = 0.3 * scale\n",
    "    label_size = 8 * scale\n",
    "\n",
    "    ## crop map and plot coastlines\n",
    "    ax.set_extent([*lon_range, *lat_range], crs=ccrs.PlateCarree())\n",
    "    ax.coastlines(linewidth=coastline_linewidth)\n",
    "\n",
    "    ## plot grid\n",
    "    gl = ax.gridlines(\n",
    "        draw_labels=True,\n",
    "        linestyle=\"--\",\n",
    "        alpha=grid_alpha,\n",
    "        linewidth=grid_linewidth,\n",
    "        color=\"k\",\n",
    "        zorder=1.05,\n",
    "    )\n",
    "\n",
    "    ## add tick labels\n",
    "    gl.bottom_labels = False\n",
    "    gl.right_labels = False\n",
    "    gl.xlabel_style = {\"size\": label_size}\n",
    "    gl.ylabel_style = {\"size\": label_size}\n",
    "    gl.ylocator = mticker.FixedLocator(yticks)\n",
    "    gl.xlocator = mticker.FixedLocator(xticks)\n",
    "\n",
    "    return ax, gl\n",
    "\n",
    "\n",
    "## Next, a function to plot the North Atlantic\n",
    "def plot_setup_north_atl(ax, scale=1):\n",
    "    \"\"\"Create map background for plotting spatial data.\n",
    "    Returns modified 'ax' object.\"\"\"\n",
    "\n",
    "    ## specify range and ticklabels for plot\n",
    "    lon_range = [-80, -42]\n",
    "    lat_range = [30, 50]\n",
    "    xticks = [-70, -60, -50]\n",
    "    yticks = [35, 45]\n",
    "\n",
    "    ax, gl = plot_setup(ax, lon_range, lat_range, xticks, yticks, scale)\n",
    "\n",
    "    return ax, gl"
   ]
  },
  {
   "cell_type": "code",
   "execution_count": null,
   "id": "4aabae41-6af5-4780-81d7-932838c92419",
   "metadata": {},
   "outputs": [],
   "source": [
    "fig = plt.figure(figsize=(6, 6))\n",
    "ax = fig.add_subplot(2, 1, 1, projection=ccrs.PlateCarree())\n",
    "\n",
    "## ORAS5\n",
    "ax, gl = plot_setup_north_atl(ax)\n",
    "oras_plot = ax.contourf(\n",
    "    zos_oras.longitude,\n",
    "    zos_oras.latitude,\n",
    "    zos_oras.mean(\"time\"),\n",
    "    cmap=\"cmo.balance\",\n",
    "    levels=src.utils.make_cb_range(1, 0.1),\n",
    ")\n",
    "cb = fig.colorbar(oras_plot, ticks=[-1, 0, 1], label=r\"SSH ($m$)\")\n",
    "\n",
    "## CESM\n",
    "ax = fig.add_subplot(2, 1, 2, projection=ccrs.PlateCarree())\n",
    "ax, gl = plot_setup_north_atl(ax)\n",
    "cesm_plot = ax.contourf(\n",
    "    zos_cesm.longitude,\n",
    "    zos_cesm.latitude,\n",
    "    zos_cesm.mean(\"time\"),\n",
    "    cmap=\"cmo.balance\",\n",
    "    levels=src.utils.make_cb_range(1, 0.1),\n",
    ")\n",
    "cb = fig.colorbar(cesm_plot, ticks=[-1, 0, 1], label=r\"SSH ($m$)\")\n",
    "\n",
    "plt.show()"
   ]
  },
  {
   "cell_type": "markdown",
   "id": "33d4aa49-d33d-4165-a23c-3251e16e6080",
   "metadata": {},
   "source": [
    "## Estimate Gulf Stream position based on magnitude of gradient"
   ]
  },
  {
   "cell_type": "code",
   "execution_count": null,
   "id": "cc23c3a4-f9a6-47e8-af61-0ca5b5bcc6d5",
   "metadata": {},
   "outputs": [],
   "source": [
    "def grad(f):\n",
    "    \"\"\"compute gradient of data called 'f'.\n",
    "    assumes latitude and longitude are both increasing\"\"\"\n",
    "\n",
    "    ## get change in lon/lat (assume constant grid)\n",
    "    theta = np.deg2rad(f.longitude)\n",
    "    phi = np.deg2rad(f.latitude)\n",
    "    dtheta = theta.values[1] - theta.values[0]\n",
    "    dphi = phi.values[1] - phi.values[0]\n",
    "\n",
    "    ## get change in dx/dy\n",
    "    R = 6.37e6  # radius of earth in meters\n",
    "    dy = R * dphi\n",
    "    dx = R * np.cos(phi) * dtheta\n",
    "\n",
    "    ## get differences\n",
    "    f_plus = f.isel(longitude=slice(1, None))\n",
    "    f_minus = f.isel(longitude=slice(None, -1))\n",
    "    df_dy = xr.zeros_like(f_minus)\n",
    "    df = f_plus.values - f_minus.values\n",
    "    df_dy.values = df / dy\n",
    "\n",
    "    f_plus = f.isel(latitude=slice(1, None))\n",
    "    f_minus = f.isel(latitude=slice(None, -1))\n",
    "    df = xr.zeros_like(f_minus)\n",
    "    df.values = f_plus.values - f_minus.values\n",
    "    df_dx = df / dx\n",
    "\n",
    "    return df_dx, df_dy\n",
    "\n",
    "\n",
    "def get_grad_mag(f):\n",
    "    \"\"\"get magnitude of gradient\"\"\"\n",
    "\n",
    "    # get gradient\n",
    "    df_dx, df_dy = grad(f)\n",
    "\n",
    "    ## get gradient magnitude\n",
    "    grad_mag = np.sqrt(df_dx**2 + df_dy**2)\n",
    "\n",
    "    ## smooth in space\n",
    "    n = 3\n",
    "    grad_mag = grad_mag.rolling({\"latitude\": n, \"longitude\": n}).mean()\n",
    "\n",
    "    return grad_mag\n",
    "\n",
    "\n",
    "def get_GS_yposn(grad_mag):\n",
    "    \"\"\"Get position of Gulf Stream based on magnitude of gradient\"\"\"\n",
    "\n",
    "    ## Trim in space\n",
    "    grad_mag_trimmed = grad_mag.sel(\n",
    "        longitude=slice(-80, None), latitude=slice(None, 45)\n",
    "    )\n",
    "\n",
    "    ## get gulf stream y_posn\n",
    "    y_posn = grad_mag_trimmed.latitude.isel(\n",
    "        latitude=grad_mag_trimmed.argmax(\"latitude\")\n",
    "    )\n",
    "\n",
    "    return y_posn"
   ]
  },
  {
   "cell_type": "markdown",
   "id": "de7a9e87-6847-4dd0-b035-2d5382b7df4c",
   "metadata": {},
   "source": [
    "Compute magnitude of gradient and gulf stream position"
   ]
  },
  {
   "cell_type": "code",
   "execution_count": null,
   "id": "cad16ee3-3463-4d4e-a4e8-ead601fc4435",
   "metadata": {},
   "outputs": [],
   "source": [
    "## get magnitude\n",
    "mag_oras = get_grad_mag(zos_oras)\n",
    "mag_cesm = get_grad_mag(zos_cesm)\n",
    "\n",
    "## get GS latitude\n",
    "y_posn_oras = get_GS_yposn(mag_oras)\n",
    "y_posn_cesm = get_GS_yposn(mag_cesm)"
   ]
  },
  {
   "cell_type": "code",
   "execution_count": null,
   "id": "59d07fd4-c0ce-4d81-aa3f-96b05681b4cf",
   "metadata": {},
   "outputs": [],
   "source": [
    "## specify whether to plot time mean or random sample\n",
    "plot_mean = False\n",
    "\n",
    "## specify colorbar max for each plot\n",
    "vmax = [1e-5, 5e-6]\n",
    "\n",
    "if plot_mean:\n",
    "    get_plot_data = lambda x: x.mean(\"time\")\n",
    "\n",
    "else:\n",
    "    t_idx = rng.choice(np.arange(len(y_posn_oras.time)))\n",
    "    get_plot_data = lambda x: x.isel(time=t_idx)\n",
    "\n",
    "fig = plt.figure()\n",
    "\n",
    "for i, (mag, y_posn, vmax_) in enumerate(\n",
    "    zip([mag_oras, mag_cesm], [y_posn_oras, y_posn_cesm], vmax), start=1\n",
    "):\n",
    "\n",
    "    ax = fig.add_subplot(2, 1, i, projection=ccrs.PlateCarree())\n",
    "    ax, gl = plot_setup_north_atl(ax)\n",
    "\n",
    "    ## Plot magnitude of gradient\n",
    "    plot = ax.contourf(\n",
    "        mag.longitude,\n",
    "        mag.latitude,\n",
    "        get_plot_data(mag),  # .mean(\"time\"),\n",
    "        cmap=\"cmo.amp\",\n",
    "        levels=np.linspace(0, vmax_, 11),\n",
    "        extend=\"both\",\n",
    "    )\n",
    "\n",
    "    ## Plot estimated position\n",
    "    ax.plot(y_posn.longitude, get_plot_data(y_posn), c=\"w\", ls=\"--\")\n",
    "\n",
    "    ## colorbar\n",
    "    cb = fig.colorbar(plot, ax=ax, ticks=[0, vmax_], label=r\"SSH grad.\")\n",
    "\n",
    "plt.show()"
   ]
  }
 ],
 "metadata": {
  "kernelspec": {
   "display_name": "Python 3 (ipykernel)",
   "language": "python",
   "name": "python3"
  },
  "language_info": {
   "codemirror_mode": {
    "name": "ipython",
    "version": 3
   },
   "file_extension": ".py",
   "mimetype": "text/x-python",
   "name": "python",
   "nbconvert_exporter": "python",
   "pygments_lexer": "ipython3",
   "version": "3.12.3"
  }
 },
 "nbformat": 4,
 "nbformat_minor": 5
}
