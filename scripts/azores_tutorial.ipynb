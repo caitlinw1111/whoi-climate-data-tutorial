{
 "cells": [
  {
   "cell_type": "markdown",
   "id": "6e50cb02-005c-4f34-a160-dab0fa7fd164",
   "metadata": {
    "jp-MarkdownHeadingCollapsed": true
   },
   "source": [
    "# Overview\n",
    "\n",
    "__The goal__:  We're going to (loosely) reproduce results from Cresswell-Clay et al. (2022)$^1$ from scratch, using data stored on WHOI's CMIP server. \n",
    "\n",
    "__What did this study do?__  Cresswell-Clay et al. compared the observed expansion of the Azores High over the last $\\sim$100 years with its variability on longer timescales. The central question is whether this expansion can be attributed to external forcing (e.g., greenhouse gas emissions) or could be explained by natural climate variability.\n",
    "\n",
    "To address this question, Cresswell-Clay et al. compare the magnitude of the Azores High's recent expansion to its simulated variability in an ensemble of $\\sim$1,200 year simulations from a global climate model (the Community Earth System Model Last-Millenium Ensemble, or CESM-LME). They also compare the model's reconstruction of Azores High extent over this period to a paleoclimate \"proxy\" (a $\\sim$1200-year record of $\\delta^{13}C$ obtained from a stalagmite in a Portuguese cave)$^2$. As suggested in the paper's title, the authors find the recent expansion is \"unprecedented\" and very unlikely to occur from natural climate variability.\n",
    "\n",
    "__What is the Azores High?__ A \"local maximum\" of surface air pressure, located approximately over the Azores Islands (about 1,500 km west of Portugal, in the North Atlantic Ocean) during the winter months. \n",
    "\n",
    "__Why does it expansion matter?__ One reason: high pressure is associated with drier conditions (e.g., less rain). If the high pressure region expands, we might expect regions in the \"expansion zone\" to become drier.\n",
    "\n",
    "__What are we going to do?__ We're going to reproduce versions of Figs. 1, 2c, and 3d-e, from scratch (the authors' original code is also available online$^3$). The goal is to provide a practical example of how to use reanalysis and climate model output to answer questions about climate. \n",
    "\n",
    "__References__  \n",
    "$^1$Cresswell-Clay, N. et al. (2022). \"Twentieth-century Azores High expansion unprecedented in the past 1,200 years\". *Nat. Geosci.* 15, 548–553.  \n",
    "$^2$Thatcher, D. L. et al. (2023) \"Iberian hydroclimate variability and the Azores High during the last 1200 years: evidence from proxy records and climate model simulations\". *Clim Dyn* 60, 2365–2387.  \n",
    "$^3$https://github.com/nathanielcresswellclay/AzoresHighExpansion/tree/main"
   ]
  },
  {
   "cell_type": "markdown",
   "id": "3c49cc5e-43ce-4469-8c0e-f2887ced42d5",
   "metadata": {},
   "source": [
    "# Outline\n",
    "This example is divided into three segments:\n",
    "1. __Obtaining and pre-processing the data__: we'll load global data from WHOI's CMIP server,  \"reduce\" it by trimming in time and space, and save the pre-processed data locally. While not always possible, saving a reduced version of the data can speed up subsequent analysis: the code will run much faster if we can fit the data into \"memory\" (i.e., random access memory, or RAM).\n",
    "2. __\"Observed\" expansion and model validation__: we'll plot the \"observed\" expansion of the Azores High – based on reanalysis output – and compare it to the expansion simulated by the CESM-LME over the overlapping period (approximately 1850-2005). The motivating question is: can we trust the model over the period where it *doesn't* overlap with observations?\n",
    "3. __Analysis of model output and comparison to cave record__: we'll compare statistics between CESM-LME ensembles with different \"external forcing\". In particular, we'll look at four types of forcing: (a) greenhouse gas emissions, (b) orbital/solar variability, (c) volcanic activity, and (d) all of the above (denoted \"Full\" in the paper). We'll also compare the Azores High variability \"Full\" forcing scenario to the $\\delta^{13}C$ variability in the Portuguese stalagmite."
   ]
  }
 ],
 "metadata": {
  "kernelspec": {
   "display_name": "Python 3 (ipykernel)",
   "language": "python",
   "name": "python3"
  },
  "language_info": {
   "codemirror_mode": {
    "name": "ipython",
    "version": 3
   },
   "file_extension": ".py",
   "mimetype": "text/x-python",
   "name": "python",
   "nbconvert_exporter": "python",
   "pygments_lexer": "ipython3",
   "version": "3.12.4"
  }
 },
 "nbformat": 4,
 "nbformat_minor": 5
}
